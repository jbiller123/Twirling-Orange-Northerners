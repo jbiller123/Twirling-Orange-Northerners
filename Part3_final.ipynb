{
  "nbformat": 4,
  "nbformat_minor": 0,
  "metadata": {
    "anaconda-cloud": {},
    "kernelspec": {
      "display_name": "Python 3",
      "language": "python",
      "name": "python3"
    },
    "language_info": {
      "codemirror_mode": {
        "name": "ipython",
        "version": 3
      },
      "file_extension": ".py",
      "mimetype": "text/x-python",
      "name": "python",
      "nbconvert_exporter": "python",
      "pygments_lexer": "ipython3",
      "version": "3.7.5"
    },
    "colab": {
      "name": "Part1.ipynb",
      "provenance": [],
      "toc_visible": true,
      "include_colab_link": true
    }
  },
  "cells": [
    {
      "cell_type": "markdown",
      "metadata": {
        "id": "view-in-github",
        "colab_type": "text"
      },
      "source": [
        "<a href=\"https://colab.research.google.com/github/jbiller123/Twirling-Orange-Northerners/blob/master/Part3_final.ipynb\" target=\"_parent\"><img src=\"https://colab.research.google.com/assets/colab-badge.svg\" alt=\"Open In Colab\"/></a>"
      ]
    },
    {
      "cell_type": "markdown",
      "metadata": {
        "id": "cFlqnC6UFxwE",
        "colab_type": "text"
      },
      "source": [
        "# Part 1"
      ]
    },
    {
      "cell_type": "markdown",
      "metadata": {
        "id": "EuQxYZjwF5qr",
        "colab_type": "text"
      },
      "source": [
        "# Install any missing libraries"
      ]
    },
    {
      "cell_type": "code",
      "metadata": {
        "id": "mmc9zVC6FxwI",
        "colab_type": "code",
        "outputId": "a9eb68eb-d422-473d-eaf2-7fa6cb2b6584",
        "colab": {}
      },
      "source": [
        "pip install sklearn"
      ],
      "execution_count": 0,
      "outputs": [
        {
          "output_type": "stream",
          "text": [
            "Requirement already satisfied: sklearn in /usr/local/lib/python3.7/site-packages (0.0)\n",
            "Requirement already satisfied: scikit-learn in /usr/local/lib/python3.7/site-packages (from sklearn) (0.21.3)\n",
            "Requirement already satisfied: joblib>=0.11 in /usr/local/lib/python3.7/site-packages (from scikit-learn->sklearn) (0.14.0)\n",
            "Requirement already satisfied: scipy>=0.17.0 in /usr/local/lib/python3.7/site-packages (from scikit-learn->sklearn) (1.3.2)\n",
            "Requirement already satisfied: numpy>=1.11.0 in /usr/local/lib/python3.7/site-packages (from scikit-learn->sklearn) (1.17.4)\n",
            "Note: you may need to restart the kernel to use updated packages.\n"
          ],
          "name": "stdout"
        }
      ]
    },
    {
      "cell_type": "code",
      "metadata": {
        "id": "SoN9cYcUFxwW",
        "colab_type": "code",
        "outputId": "27bb5677-05b8-4eaf-f124-77e8dc42c1a8",
        "colab": {}
      },
      "source": [
        "pip install panda"
      ],
      "execution_count": 0,
      "outputs": [
        {
          "output_type": "stream",
          "text": [
            "Requirement already satisfied: panda in /usr/local/lib/python3.7/site-packages (0.3.1)\n",
            "Requirement already satisfied: requests in /usr/local/lib/python3.7/site-packages (from panda) (2.22.0)\n",
            "Requirement already satisfied: setuptools in /usr/local/lib/python3.7/site-packages (from panda) (41.6.0)\n",
            "Requirement already satisfied: idna<2.9,>=2.5 in /usr/local/lib/python3.7/site-packages (from requests->panda) (2.8)\n",
            "Requirement already satisfied: certifi>=2017.4.17 in /usr/local/lib/python3.7/site-packages (from requests->panda) (2019.9.11)\n",
            "Requirement already satisfied: chardet<3.1.0,>=3.0.2 in /usr/local/lib/python3.7/site-packages (from requests->panda) (3.0.4)\n",
            "Requirement already satisfied: urllib3!=1.25.0,!=1.25.1,<1.26,>=1.21.1 in /usr/local/lib/python3.7/site-packages (from requests->panda) (1.25.7)\n",
            "Note: you may need to restart the kernel to use updated packages.\n"
          ],
          "name": "stdout"
        }
      ]
    },
    {
      "cell_type": "code",
      "metadata": {
        "id": "AoKrreLSFxwc",
        "colab_type": "code",
        "outputId": "d7bd5a35-31cb-4bba-9884-9573dc3687a0",
        "colab": {}
      },
      "source": [
        "pip install fancyimpute"
      ],
      "execution_count": 0,
      "outputs": [
        {
          "output_type": "stream",
          "text": [
            "Requirement already satisfied: fancyimpute in /usr/local/lib/python3.7/site-packages (0.5.4)\n",
            "Requirement already satisfied: scikit-learn>=0.21.2 in /usr/local/lib/python3.7/site-packages (from fancyimpute) (0.21.3)\n",
            "Requirement already satisfied: cvxpy>=1.0.6 in /usr/local/lib/python3.7/site-packages (from fancyimpute) (1.0.25)\n",
            "Requirement already satisfied: keras>=2.0.0 in /usr/local/lib/python3.7/site-packages (from fancyimpute) (2.3.1)\n",
            "Requirement already satisfied: knnimpute in /usr/local/lib/python3.7/site-packages (from fancyimpute) (0.1.0)\n",
            "Requirement already satisfied: tensorflow in /usr/local/lib/python3.7/site-packages (from fancyimpute) (2.0.0)\n",
            "Requirement already satisfied: numpy>=1.10 in /usr/local/lib/python3.7/site-packages (from fancyimpute) (1.17.4)\n",
            "Requirement already satisfied: scipy in /usr/local/lib/python3.7/site-packages (from fancyimpute) (1.3.2)\n",
            "Requirement already satisfied: joblib>=0.11 in /usr/local/lib/python3.7/site-packages (from scikit-learn>=0.21.2->fancyimpute) (0.14.0)\n",
            "Requirement already satisfied: six in /usr/local/Cellar/ipython/7.8.0/libexec/vendor/lib/python3.7/site-packages (from cvxpy>=1.0.6->fancyimpute) (1.12.0)\n",
            "Requirement already satisfied: multiprocess in /usr/local/lib/python3.7/site-packages (from cvxpy>=1.0.6->fancyimpute) (0.70.9)\n",
            "Requirement already satisfied: scs>=1.1.3 in /usr/local/lib/python3.7/site-packages (from cvxpy>=1.0.6->fancyimpute) (2.1.1.post2)\n",
            "Requirement already satisfied: osqp>=0.4.1 in /usr/local/lib/python3.7/site-packages (from cvxpy>=1.0.6->fancyimpute) (0.6.1)\n",
            "Requirement already satisfied: ecos>=2 in /usr/local/lib/python3.7/site-packages (from cvxpy>=1.0.6->fancyimpute) (2.0.7.post1)\n",
            "Requirement already satisfied: keras-applications>=1.0.6 in /usr/local/lib/python3.7/site-packages (from keras>=2.0.0->fancyimpute) (1.0.8)\n",
            "Requirement already satisfied: pyyaml in /usr/local/lib/python3.7/site-packages (from keras>=2.0.0->fancyimpute) (5.1.2)\n",
            "Requirement already satisfied: keras-preprocessing>=1.0.5 in /usr/local/lib/python3.7/site-packages (from keras>=2.0.0->fancyimpute) (1.1.0)\n",
            "Requirement already satisfied: h5py in /usr/local/lib/python3.7/site-packages (from keras>=2.0.0->fancyimpute) (2.10.0)\n",
            "Requirement already satisfied: tensorboard<2.1.0,>=2.0.0 in /usr/local/lib/python3.7/site-packages (from tensorflow->fancyimpute) (2.0.1)\n",
            "Requirement already satisfied: protobuf>=3.6.1 in /usr/local/lib/python3.7/site-packages (from tensorflow->fancyimpute) (3.10.0)\n",
            "Requirement already satisfied: gast==0.2.2 in /usr/local/lib/python3.7/site-packages (from tensorflow->fancyimpute) (0.2.2)\n",
            "Requirement already satisfied: absl-py>=0.7.0 in /usr/local/lib/python3.7/site-packages (from tensorflow->fancyimpute) (0.8.1)\n",
            "Requirement already satisfied: grpcio>=1.8.6 in /usr/local/lib/python3.7/site-packages (from tensorflow->fancyimpute) (1.25.0)\n",
            "Requirement already satisfied: astor>=0.6.0 in /usr/local/lib/python3.7/site-packages (from tensorflow->fancyimpute) (0.8.0)\n",
            "Requirement already satisfied: google-pasta>=0.1.6 in /usr/local/lib/python3.7/site-packages (from tensorflow->fancyimpute) (0.1.8)\n",
            "Requirement already satisfied: tensorflow-estimator<2.1.0,>=2.0.0 in /usr/local/lib/python3.7/site-packages (from tensorflow->fancyimpute) (2.0.1)\n",
            "Requirement already satisfied: wrapt>=1.11.1 in /usr/local/lib/python3.7/site-packages (from tensorflow->fancyimpute) (1.11.2)\n",
            "Requirement already satisfied: opt-einsum>=2.3.2 in /usr/local/lib/python3.7/site-packages (from tensorflow->fancyimpute) (3.1.0)\n",
            "Requirement already satisfied: termcolor>=1.1.0 in /usr/local/lib/python3.7/site-packages (from tensorflow->fancyimpute) (1.1.0)\n",
            "Requirement already satisfied: wheel>=0.26 in /usr/local/lib/python3.7/site-packages (from tensorflow->fancyimpute) (0.33.6)\n",
            "Requirement already satisfied: dill>=0.3.1 in /usr/local/lib/python3.7/site-packages (from multiprocess->cvxpy>=1.0.6->fancyimpute) (0.3.1.1)\n",
            "Requirement already satisfied: future in /usr/local/lib/python3.7/site-packages (from osqp>=0.4.1->cvxpy>=1.0.6->fancyimpute) (0.18.2)\n",
            "Requirement already satisfied: google-auth-oauthlib<0.5,>=0.4.1 in /usr/local/lib/python3.7/site-packages (from tensorboard<2.1.0,>=2.0.0->tensorflow->fancyimpute) (0.4.1)\n",
            "Requirement already satisfied: google-auth<2,>=1.6.3 in /usr/local/lib/python3.7/site-packages (from tensorboard<2.1.0,>=2.0.0->tensorflow->fancyimpute) (1.7.1)\n",
            "Requirement already satisfied: setuptools>=41.0.0 in /usr/local/lib/python3.7/site-packages (from tensorboard<2.1.0,>=2.0.0->tensorflow->fancyimpute) (41.6.0)\n",
            "Requirement already satisfied: markdown>=2.6.8 in /usr/local/lib/python3.7/site-packages (from tensorboard<2.1.0,>=2.0.0->tensorflow->fancyimpute) (3.1.1)\n",
            "Requirement already satisfied: werkzeug>=0.11.15 in /usr/local/lib/python3.7/site-packages (from tensorboard<2.1.0,>=2.0.0->tensorflow->fancyimpute) (0.16.0)\n",
            "Requirement already satisfied: requests-oauthlib>=0.7.0 in /usr/local/lib/python3.7/site-packages (from google-auth-oauthlib<0.5,>=0.4.1->tensorboard<2.1.0,>=2.0.0->tensorflow->fancyimpute) (1.3.0)\n",
            "Requirement already satisfied: cachetools<3.2,>=2.0.0 in /usr/local/lib/python3.7/site-packages (from google-auth<2,>=1.6.3->tensorboard<2.1.0,>=2.0.0->tensorflow->fancyimpute) (3.1.1)\n",
            "Requirement already satisfied: pyasn1-modules>=0.2.1 in /usr/local/lib/python3.7/site-packages (from google-auth<2,>=1.6.3->tensorboard<2.1.0,>=2.0.0->tensorflow->fancyimpute) (0.2.7)\n",
            "Requirement already satisfied: rsa<4.1,>=3.1.4 in /usr/local/lib/python3.7/site-packages (from google-auth<2,>=1.6.3->tensorboard<2.1.0,>=2.0.0->tensorflow->fancyimpute) (4.0)\n",
            "Requirement already satisfied: requests>=2.0.0 in /usr/local/lib/python3.7/site-packages (from requests-oauthlib>=0.7.0->google-auth-oauthlib<0.5,>=0.4.1->tensorboard<2.1.0,>=2.0.0->tensorflow->fancyimpute) (2.22.0)\n",
            "Requirement already satisfied: oauthlib>=3.0.0 in /usr/local/lib/python3.7/site-packages (from requests-oauthlib>=0.7.0->google-auth-oauthlib<0.5,>=0.4.1->tensorboard<2.1.0,>=2.0.0->tensorflow->fancyimpute) (3.1.0)\n",
            "Requirement already satisfied: pyasn1<0.5.0,>=0.4.6 in /usr/local/lib/python3.7/site-packages (from pyasn1-modules>=0.2.1->google-auth<2,>=1.6.3->tensorboard<2.1.0,>=2.0.0->tensorflow->fancyimpute) (0.4.8)\n",
            "Requirement already satisfied: chardet<3.1.0,>=3.0.2 in /usr/local/lib/python3.7/site-packages (from requests>=2.0.0->requests-oauthlib>=0.7.0->google-auth-oauthlib<0.5,>=0.4.1->tensorboard<2.1.0,>=2.0.0->tensorflow->fancyimpute) (3.0.4)\n",
            "Requirement already satisfied: certifi>=2017.4.17 in /usr/local/lib/python3.7/site-packages (from requests>=2.0.0->requests-oauthlib>=0.7.0->google-auth-oauthlib<0.5,>=0.4.1->tensorboard<2.1.0,>=2.0.0->tensorflow->fancyimpute) (2019.9.11)\n",
            "Requirement already satisfied: urllib3!=1.25.0,!=1.25.1,<1.26,>=1.21.1 in /usr/local/lib/python3.7/site-packages (from requests>=2.0.0->requests-oauthlib>=0.7.0->google-auth-oauthlib<0.5,>=0.4.1->tensorboard<2.1.0,>=2.0.0->tensorflow->fancyimpute) (1.25.7)\n",
            "Requirement already satisfied: idna<2.9,>=2.5 in /usr/local/lib/python3.7/site-packages (from requests>=2.0.0->requests-oauthlib>=0.7.0->google-auth-oauthlib<0.5,>=0.4.1->tensorboard<2.1.0,>=2.0.0->tensorflow->fancyimpute) (2.8)\n",
            "Note: you may need to restart the kernel to use updated packages.\n"
          ],
          "name": "stdout"
        }
      ]
    },
    {
      "cell_type": "code",
      "metadata": {
        "id": "bLXRwwE3Fxwo",
        "colab_type": "code",
        "outputId": "77ac06fe-1e86-4e28-ee0f-0bbe5e8cd999",
        "colab": {}
      },
      "source": [
        "pip install pandas"
      ],
      "execution_count": 0,
      "outputs": [
        {
          "output_type": "stream",
          "text": [
            "Requirement already satisfied: pandas in /usr/local/lib/python3.7/site-packages (0.25.3)\n",
            "Requirement already satisfied: pytz>=2017.2 in /usr/local/lib/python3.7/site-packages (from pandas) (2019.3)\n",
            "Requirement already satisfied: numpy>=1.13.3 in /usr/local/lib/python3.7/site-packages (from pandas) (1.17.4)\n",
            "Requirement already satisfied: python-dateutil>=2.6.1 in /usr/local/Cellar/ipython/7.8.0/libexec/vendor/lib/python3.7/site-packages (from pandas) (2.8.0)\n",
            "Requirement already satisfied: six>=1.5 in /usr/local/Cellar/ipython/7.8.0/libexec/vendor/lib/python3.7/site-packages (from python-dateutil>=2.6.1->pandas) (1.12.0)\n",
            "Note: you may need to restart the kernel to use updated packages.\n"
          ],
          "name": "stdout"
        }
      ]
    },
    {
      "cell_type": "code",
      "metadata": {
        "id": "oqKxh75YFxww",
        "colab_type": "code",
        "outputId": "3a0c5a15-e525-4145-f028-4046a6ef5bf1",
        "colab": {}
      },
      "source": [
        "pip install matplotlib"
      ],
      "execution_count": 0,
      "outputs": [
        {
          "output_type": "stream",
          "text": [
            "Requirement already satisfied: matplotlib in /usr/local/lib/python3.7/site-packages (3.1.2)\n",
            "Requirement already satisfied: python-dateutil>=2.1 in /usr/local/Cellar/ipython/7.8.0/libexec/vendor/lib/python3.7/site-packages (from matplotlib) (2.8.0)\n",
            "Requirement already satisfied: kiwisolver>=1.0.1 in /usr/local/lib/python3.7/site-packages (from matplotlib) (1.1.0)\n",
            "Requirement already satisfied: pyparsing!=2.0.4,!=2.1.2,!=2.1.6,>=2.0.1 in /usr/local/lib/python3.7/site-packages (from matplotlib) (2.4.5)\n",
            "Requirement already satisfied: numpy>=1.11 in /usr/local/lib/python3.7/site-packages (from matplotlib) (1.17.4)\n",
            "Requirement already satisfied: cycler>=0.10 in /usr/local/lib/python3.7/site-packages (from matplotlib) (0.10.0)\n",
            "Requirement already satisfied: six>=1.5 in /usr/local/Cellar/ipython/7.8.0/libexec/vendor/lib/python3.7/site-packages (from python-dateutil>=2.1->matplotlib) (1.12.0)\n",
            "Requirement already satisfied: setuptools in /usr/local/lib/python3.7/site-packages (from kiwisolver>=1.0.1->matplotlib) (41.6.0)\n",
            "Note: you may need to restart the kernel to use updated packages.\n"
          ],
          "name": "stdout"
        }
      ]
    },
    {
      "cell_type": "markdown",
      "metadata": {
        "id": "Nx6aRVCqF-mW",
        "colab_type": "text"
      },
      "source": [
        "# Import all libraries"
      ]
    },
    {
      "cell_type": "code",
      "metadata": {
        "id": "yLrzujpAFxw4",
        "colab_type": "code",
        "colab": {}
      },
      "source": [
        "import numpy as np\n",
        "import pandas as pd\n",
        "import matplotlib.pyplot as plt\n",
        "\n",
        "from sklearn.preprocessing import Imputer  \n",
        "from sklearn.linear_model import LinearRegression\n",
        "from sklearn.linear_model import LogisticRegression\n",
        "\n",
        "from sklearn.metrics import mean_squared_error\n",
        "\n",
        "from sklearn.ensemble import RandomForestRegressor\n",
        "from sklearn.ensemble import BaggingRegressor\n",
        "from sklearn.ensemble import GradientBoostingRegressor\n",
        "from sklearn.impute import SimpleImputer\n",
        "from sklearn.ensemble import VotingRegressor#create a dictionary of our models\n",
        "\n",
        "##from fancyimpute import MICE\n",
        "\n",
        "from sklearn.ensemble import AdaBoostRegressor\n",
        "from sklearn.datasets import make_regression\n",
        "from sklearn.model_selection import GridSearchCV\n",
        "from sklearn import tree\n",
        "from sklearn.neighbors import KNeighborsRegressor\n",
        "from sklearn.model_selection import train_test_split\n",
        "\n",
        "\n",
        "%matplotlib inline"
      ],
      "execution_count": 0,
      "outputs": []
    },
    {
      "cell_type": "code",
      "metadata": {
        "id": "Ki7ks4uwFxxC",
        "colab_type": "code",
        "colab": {}
      },
      "source": [
        "from pprint import pprint\n",
        "from sklearn.model_selection import RandomizedSearchCV #Importing RandomizedSearchCV for random forest regressor"
      ],
      "execution_count": 0,
      "outputs": []
    },
    {
      "cell_type": "markdown",
      "metadata": {
        "id": "olLx7j58GEAL",
        "colab_type": "text"
      },
      "source": [
        "# Load datasets"
      ]
    },
    {
      "cell_type": "code",
      "metadata": {
        "id": "fFda3I2RFxxI",
        "colab_type": "code",
        "colab": {}
      },
      "source": [
        "train_df = pd.read_csv('https://grantmlong.com/data/SE_rents2018_train.csv', index_col=0)\n",
        "test_df = pd.read_csv('https://grantmlong.com/data/SE_rents2018_test1.csv', index_col=0)\n",
        "submit2_df = pd.read_csv('https://grantmlong.com/data/SE_rents2018_test3.csv', index_col=0)\n",
        "zips_df = pd.read_csv('https://raw.githubusercontent.com/jbiller123/Twirling-Orange-Northerners/master/zip_borough.csv', header=1, index_col=None, names=['zip','borough'])\n",
        "ext_df = pd.read_csv('https://raw.githubusercontent.com/jbiller123/Twirling-Orange-Northerners/master/cleaned_external.csv',index_col=None)"
      ],
      "execution_count": 0,
      "outputs": []
    },
    {
      "cell_type": "markdown",
      "metadata": {
        "id": "RM9s6AlAGImD",
        "colab_type": "text"
      },
      "source": [
        "# Merge External Dataset with Training and Testing Datasets"
      ]
    },
    {
      "cell_type": "code",
      "metadata": {
        "id": "mkXNEgeULMoe",
        "colab_type": "code",
        "outputId": "e15a97e2-a6e9-47e1-aacf-606ea4a8dcec",
        "colab": {
          "base_uri": "https://localhost:8080/",
          "height": 261
        }
      },
      "source": [
        "display(ext_df)\n",
        "\n",
        "train_df=train_df.merge(ext_df, how='outer',right_index=True, on = 'borough')\n",
        "test_df=test_df.merge(ext_df, how='outer',right_index=True, on = 'borough')\n",
        "submit2_df=submit2_df.merge(ext_df, how='outer',right_index=True, on = 'borough')"
      ],
      "execution_count": 347,
      "outputs": [
        {
          "output_type": "display_data",
          "data": {
            "text/html": [
              "<div>\n",
              "<style scoped>\n",
              "    .dataframe tbody tr th:only-of-type {\n",
              "        vertical-align: middle;\n",
              "    }\n",
              "\n",
              "    .dataframe tbody tr th {\n",
              "        vertical-align: top;\n",
              "    }\n",
              "\n",
              "    .dataframe thead th {\n",
              "        text-align: right;\n",
              "    }\n",
              "</style>\n",
              "<table border=\"1\" class=\"dataframe\">\n",
              "  <thead>\n",
              "    <tr style=\"text-align: right;\">\n",
              "      <th></th>\n",
              "      <th>borough</th>\n",
              "      <th>population</th>\n",
              "      <th>num_units</th>\n",
              "      <th>building_val</th>\n",
              "      <th>gross_rent</th>\n",
              "      <th>retail_sales</th>\n",
              "      <th>mean_travel_time</th>\n",
              "      <th>median_in come</th>\n",
              "      <th>availailable_land</th>\n",
              "    </tr>\n",
              "  </thead>\n",
              "  <tbody>\n",
              "    <tr>\n",
              "      <th>0</th>\n",
              "      <td>Manhattan</td>\n",
              "      <td>1586360</td>\n",
              "      <td>886249</td>\n",
              "      <td>915300</td>\n",
              "      <td>1615</td>\n",
              "      <td>27200</td>\n",
              "      <td>31.8</td>\n",
              "      <td>79781</td>\n",
              "      <td>22.83</td>\n",
              "    </tr>\n",
              "    <tr>\n",
              "      <th>1</th>\n",
              "      <td>Bronx</td>\n",
              "      <td>1384603</td>\n",
              "      <td>532487</td>\n",
              "      <td>371800</td>\n",
              "      <td>1133</td>\n",
              "      <td>4880</td>\n",
              "      <td>44.2</td>\n",
              "      <td>36593</td>\n",
              "      <td>42.10</td>\n",
              "    </tr>\n",
              "    <tr>\n",
              "      <th>2</th>\n",
              "      <td>Queens</td>\n",
              "      <td>2230578</td>\n",
              "      <td>865878</td>\n",
              "      <td>481300</td>\n",
              "      <td>1456</td>\n",
              "      <td>7481</td>\n",
              "      <td>43.5</td>\n",
              "      <td>62008</td>\n",
              "      <td>108.53</td>\n",
              "    </tr>\n",
              "    <tr>\n",
              "      <th>3</th>\n",
              "      <td>Brooklyn</td>\n",
              "      <td>2504717</td>\n",
              "      <td>1053767</td>\n",
              "      <td>623900</td>\n",
              "      <td>1314</td>\n",
              "      <td>8003</td>\n",
              "      <td>42.4</td>\n",
              "      <td>52782</td>\n",
              "      <td>70.82</td>\n",
              "    </tr>\n",
              "    <tr>\n",
              "      <th>4</th>\n",
              "      <td>Staten Island</td>\n",
              "      <td>468730</td>\n",
              "      <td>181199</td>\n",
              "      <td>460200</td>\n",
              "      <td>1229</td>\n",
              "      <td>8106</td>\n",
              "      <td>44.0</td>\n",
              "      <td>76244</td>\n",
              "      <td>58.37</td>\n",
              "    </tr>\n",
              "  </tbody>\n",
              "</table>\n",
              "</div>"
            ],
            "text/plain": [
              "         borough  population  ...  median_in come  availailable_land\n",
              "0      Manhattan     1586360  ...           79781              22.83\n",
              "1          Bronx     1384603  ...           36593              42.10\n",
              "2         Queens     2230578  ...           62008             108.53\n",
              "3       Brooklyn     2504717  ...           52782              70.82\n",
              "4  Staten Island      468730  ...           76244              58.37\n",
              "\n",
              "[5 rows x 9 columns]"
            ]
          },
          "metadata": {
            "tags": []
          }
        }
      ]
    },
    {
      "cell_type": "markdown",
      "metadata": {
        "id": "ocOUAvlbFxxU",
        "colab_type": "text"
      },
      "source": [
        "#### Build training data"
      ]
    },
    {
      "cell_type": "code",
      "metadata": {
        "id": "AadKe8JlFxxY",
        "colab_type": "code",
        "colab": {}
      },
      "source": [
        "# extract usable features\n",
        "feature_cols = [\n",
        "    'bedrooms', 'bathrooms', 'floor_count', 'size_sqft',\n",
        "    'has_washer_dryer', 'has_roofdeck', 'has_doorman', 'has_dishwasher','gross_rent', \t\n",
        "    'retail_sales', \t'mean_travel_time', \t'median_in come', \t'availailable_land']\n",
        "train_features = train_df[feature_cols] \n",
        "\n",
        "# impute missing values with imputer\n",
        "imp = SimpleImputer(missing_values=np.nan, strategy='median')\n",
        "imp.fit(train_features)\n",
        "imp.transform(train_features)\n",
        "\n",
        "# construct target vector\n",
        "train_target = train_df['rent']\n",
        "\n"
      ],
      "execution_count": 0,
      "outputs": []
    },
    {
      "cell_type": "markdown",
      "metadata": {
        "id": "o8a_c_dFFxxb",
        "colab_type": "text"
      },
      "source": [
        "#### Fit models for training data"
      ]
    },
    {
      "cell_type": "code",
      "metadata": {
        "id": "cVSjzsufFxxe",
        "colab_type": "code",
        "outputId": "a57689c5-8169-4fc9-8060-877030528a19",
        "colab": {
          "base_uri": "https://localhost:8080/",
          "height": 726
        }
      },
      "source": [
        "lreg = LinearRegression()\n",
        "lreg.fit(train_features, train_target)\n",
        "\n",
        "rf = RandomForestRegressor()\n",
        "rf.fit(train_features, train_target)\n",
        "\n",
        "br = BaggingRegressor(tree.DecisionTreeRegressor(random_state=1))\n",
        "br.fit(train_features, train_target)\n",
        "\n",
        "gb = GradientBoostingRegressor()\n",
        "gb.fit(train_features, train_target)\n",
        "\n",
        "ab = AdaBoostRegressor()\n",
        "ab.fit(train_features, train_target)\n",
        "\n",
        "knn = KNeighborsRegressor()#create a dictionary of all values we want to test for n_neighbors\n",
        "params_knn = {'n_neighbors': np.arange(1, 25)}#use gridsearch to test all values for n_neighbors\n",
        "knn_gs = GridSearchCV(knn, params_knn, cv=55)#fit model to training data\n",
        "knn_gs.fit(train_features, train_target)\n",
        "\n",
        "estimators=[('knn', knn_gs), ('rf', rf), ('lreg', lreg),('br',br),('ab',ab)]\n",
        "voter = VotingRegressor(estimators)\n",
        "voter.fit(train_features, train_target)\n",
        "\n"
      ],
      "execution_count": 354,
      "outputs": [
        {
          "output_type": "stream",
          "text": [
            "/usr/local/lib/python3.6/dist-packages/sklearn/ensemble/forest.py:245: FutureWarning: The default value of n_estimators will change from 10 in version 0.20 to 100 in 0.22.\n",
            "  \"10 in version 0.20 to 100 in 0.22.\", FutureWarning)\n",
            "/usr/local/lib/python3.6/dist-packages/sklearn/model_selection/_search.py:814: DeprecationWarning: The default of the `iid` parameter will change from True to False in version 0.22 and will be removed in 0.24. This will change numeric results when test-set sizes are unequal.\n",
            "  DeprecationWarning)\n",
            "/usr/local/lib/python3.6/dist-packages/sklearn/model_selection/_search.py:814: DeprecationWarning: The default of the `iid` parameter will change from True to False in version 0.22 and will be removed in 0.24. This will change numeric results when test-set sizes are unequal.\n",
            "  DeprecationWarning)\n"
          ],
          "name": "stderr"
        },
        {
          "output_type": "execute_result",
          "data": {
            "text/plain": [
              "VotingRegressor(estimators=[('knn',\n",
              "                             GridSearchCV(cv=55,\n",
              "                                          error_score='raise-deprecating',\n",
              "                                          estimator=KNeighborsRegressor(algorithm='auto',\n",
              "                                                                        leaf_size=30,\n",
              "                                                                        metric='minkowski',\n",
              "                                                                        metric_params=None,\n",
              "                                                                        n_jobs=None,\n",
              "                                                                        n_neighbors=5,\n",
              "                                                                        p=2,\n",
              "                                                                        weights='uniform'),\n",
              "                                          iid='warn', n_jobs=None,\n",
              "                                          param_grid={'n_neighbors': array([ 1,  2,  3,  4,  5,  6,  7,  8,  9, 10, 11, 12, 13, 14, 15, 16, 17,\n",
              "       18, 19, 20, 21, 22, 23, 2...\n",
              "                                                                                   min_weight_fraction_leaf=0.0,\n",
              "                                                                                   presort=False,\n",
              "                                                                                   random_state=1,\n",
              "                                                                                   splitter='best'),\n",
              "                                              bootstrap=True,\n",
              "                                              bootstrap_features=False,\n",
              "                                              max_features=1.0, max_samples=1.0,\n",
              "                                              n_estimators=10, n_jobs=None,\n",
              "                                              oob_score=False,\n",
              "                                              random_state=None, verbose=0,\n",
              "                                              warm_start=False)),\n",
              "                            ('ab',\n",
              "                             AdaBoostRegressor(base_estimator=None,\n",
              "                                               learning_rate=1.0, loss='linear',\n",
              "                                               n_estimators=50,\n",
              "                                               random_state=None))],\n",
              "                n_jobs=None, weights=None)"
            ]
          },
          "metadata": {
            "tags": []
          },
          "execution_count": 354
        }
      ]
    },
    {
      "cell_type": "markdown",
      "metadata": {
        "id": "YGoQoI0EGp01",
        "colab_type": "text"
      },
      "source": [
        "# Tuning Hyperparameters for RandomForestRegressor"
      ]
    },
    {
      "cell_type": "code",
      "metadata": {
        "id": "o4g4NoqBFxxu",
        "colab_type": "code",
        "outputId": "0b4b1cba-4daa-45be-aead-20014a6acc8f",
        "colab": {
          "base_uri": "https://localhost:8080/",
          "height": 129
        }
      },
      "source": [
        "#pprint(rf.get_params()) #Checking hyper parameters of rf\n",
        "\n",
        "#Creating our random grid to sample during fitting\n",
        "n_estimators = [int(x) for x in np.linspace(start = 200, stop = 2000, num = 10)]\n",
        "max_features = ['auto', 'sqrt']\n",
        "max_depth = [int(x) for x in np.linspace(10, 110, num = 11)]\n",
        "max_depth.append(None)\n",
        "min_samples_split = [2, 5, 10]\n",
        "min_samples_leaf = [1, 2, 4]\n",
        "bootstrap = [True, False]\n",
        "\n",
        "random_grid = {'n_estimators': n_estimators,\n",
        "               'max_features': max_features,\n",
        "               'max_depth': max_depth,\n",
        "               'min_samples_split': min_samples_split,\n",
        "               'min_samples_leaf': min_samples_leaf,\n",
        "               'bootstrap': bootstrap}\n",
        "\n",
        "pprint(random_grid)\n"
      ],
      "execution_count": 366,
      "outputs": [
        {
          "output_type": "stream",
          "text": [
            "{'bootstrap': [True, False],\n",
            " 'max_depth': [10, 20, 30, 40, 50, 60, 70, 80, 90, 100, 110, None],\n",
            " 'max_features': ['auto', 'sqrt'],\n",
            " 'min_samples_leaf': [1, 2, 4],\n",
            " 'min_samples_split': [2, 5, 10],\n",
            " 'n_estimators': [200, 400, 600, 800, 1000, 1200, 1400, 1600, 1800, 2000]}\n"
          ],
          "name": "stdout"
        }
      ]
    },
    {
      "cell_type": "code",
      "metadata": {
        "id": "X_NDeRG5Fxx0",
        "colab_type": "code",
        "outputId": "bfdd61bb-39f1-4365-8d8a-849fc62f7361",
        "colab": {
          "base_uri": "https://localhost:8080/",
          "height": 614
        }
      },
      "source": [
        "rrf = RandomForestRegressor() #Base RFR for use in our RandomizedSCV\n",
        "rf_random = RandomizedSearchCV(estimator = rrf, \n",
        "                               param_distributions = random_grid, \n",
        "                               n_iter = 10, cv = 3, verbose = 2,\n",
        "                               random_state = 42, n_jobs = -1)\n",
        "\n",
        "rf_random.fit(train_features, train_target)\n",
        "\n"
      ],
      "execution_count": 367,
      "outputs": [
        {
          "output_type": "stream",
          "text": [
            "Fitting 3 folds for each of 10 candidates, totalling 30 fits\n"
          ],
          "name": "stdout"
        },
        {
          "output_type": "stream",
          "text": [
            "[Parallel(n_jobs=-1)]: Using backend LokyBackend with 2 concurrent workers.\n",
            "/usr/local/lib/python3.6/dist-packages/joblib/externals/loky/process_executor.py:706: UserWarning: A worker stopped while some jobs were given to the executor. This can be caused by a too short worker timeout or by a memory leak.\n",
            "  \"timeout or by a memory leak.\", UserWarning\n",
            "[Parallel(n_jobs=-1)]: Done  30 out of  30 | elapsed:  5.6min finished\n"
          ],
          "name": "stderr"
        },
        {
          "output_type": "execute_result",
          "data": {
            "text/plain": [
              "RandomizedSearchCV(cv=3, error_score='raise-deprecating',\n",
              "                   estimator=RandomForestRegressor(bootstrap=True,\n",
              "                                                   criterion='mse',\n",
              "                                                   max_depth=None,\n",
              "                                                   max_features='auto',\n",
              "                                                   max_leaf_nodes=None,\n",
              "                                                   min_impurity_decrease=0.0,\n",
              "                                                   min_impurity_split=None,\n",
              "                                                   min_samples_leaf=1,\n",
              "                                                   min_samples_split=2,\n",
              "                                                   min_weight_fraction_leaf=0.0,\n",
              "                                                   n_estimators='warn',\n",
              "                                                   n_jobs=None, oob_score=False,\n",
              "                                                   random_sta...\n",
              "                   param_distributions={'bootstrap': [True, False],\n",
              "                                        'max_depth': [10, 20, 30, 40, 50, 60,\n",
              "                                                      70, 80, 90, 100, 110,\n",
              "                                                      None],\n",
              "                                        'max_features': ['auto', 'sqrt'],\n",
              "                                        'min_samples_leaf': [1, 2, 4],\n",
              "                                        'min_samples_split': [2, 5, 10],\n",
              "                                        'n_estimators': [200, 400, 600, 800,\n",
              "                                                         1000, 1200, 1400, 1600,\n",
              "                                                         1800, 2000]},\n",
              "                   pre_dispatch='2*n_jobs', random_state=42, refit=True,\n",
              "                   return_train_score=False, scoring=None, verbose=2)"
            ]
          },
          "metadata": {
            "tags": []
          },
          "execution_count": 367
        }
      ]
    },
    {
      "cell_type": "code",
      "metadata": {
        "id": "KlmBQGwCFxx6",
        "colab_type": "code",
        "outputId": "b647fc12-9845-4a23-dbe1-77c183dabab6",
        "colab": {
          "base_uri": "https://localhost:8080/",
          "height": 129
        }
      },
      "source": [
        "rf_random.best_params_   #Looking at best params"
      ],
      "execution_count": 368,
      "outputs": [
        {
          "output_type": "execute_result",
          "data": {
            "text/plain": [
              "{'bootstrap': True,\n",
              " 'max_depth': 50,\n",
              " 'max_features': 'auto',\n",
              " 'min_samples_leaf': 2,\n",
              " 'min_samples_split': 5,\n",
              " 'n_estimators': 2000}"
            ]
          },
          "metadata": {
            "tags": []
          },
          "execution_count": 368
        }
      ]
    },
    {
      "cell_type": "code",
      "metadata": {
        "id": "vvri0UMzFxx_",
        "colab_type": "code",
        "outputId": "2beec836-623f-4186-bb69-b9b3af2ca413",
        "colab": {
          "base_uri": "https://localhost:8080/",
          "height": 147
        }
      },
      "source": [
        "best_random = rf_random.best_estimator_   #Setting new RSCV using best parameters\n",
        "best_random.fit(train_features, train_target)"
      ],
      "execution_count": 369,
      "outputs": [
        {
          "output_type": "execute_result",
          "data": {
            "text/plain": [
              "RandomForestRegressor(bootstrap=True, criterion='mse', max_depth=50,\n",
              "                      max_features='auto', max_leaf_nodes=None,\n",
              "                      min_impurity_decrease=0.0, min_impurity_split=None,\n",
              "                      min_samples_leaf=2, min_samples_split=5,\n",
              "                      min_weight_fraction_leaf=0.0, n_estimators=2000,\n",
              "                      n_jobs=None, oob_score=False, random_state=None,\n",
              "                      verbose=0, warm_start=False)"
            ]
          },
          "metadata": {
            "tags": []
          },
          "execution_count": 369
        }
      ]
    },
    {
      "cell_type": "markdown",
      "metadata": {
        "id": "niINYlp2FxyH",
        "colab_type": "text"
      },
      "source": [
        "# Predict and Measure Using Test 1"
      ]
    },
    {
      "cell_type": "code",
      "metadata": {
        "id": "xR-4etYyAwje",
        "colab_type": "code",
        "colab": {
          "base_uri": "https://localhost:8080/",
          "height": 259
        },
        "outputId": "45f42165-e47c-45c7-d498-ad3341e06a1b"
      },
      "source": [
        "test_features = test_df[feature_cols] \n",
        "\n",
        "# impute missing values with medians\n",
        "imp = SimpleImputer(missing_values=np.nan, strategy='median')\n",
        "imp.fit(test_features)\n",
        "imp.transform(test_features)\n"
      ],
      "execution_count": 370,
      "outputs": [
        {
          "output_type": "execute_result",
          "data": {
            "text/plain": [
              "array([[1.0000e+00, 1.0000e+00, 7.0000e+00, ..., 3.1800e+01, 7.9781e+04,\n",
              "        2.2830e+01],\n",
              "       [2.0000e+00, 2.0000e+00, 6.0000e+00, ..., 3.1800e+01, 7.9781e+04,\n",
              "        2.2830e+01],\n",
              "       [2.0000e+00, 1.0000e+00, 6.0000e+00, ..., 3.1800e+01, 7.9781e+04,\n",
              "        2.2830e+01],\n",
              "       ...,\n",
              "       [2.0000e+00, 2.0000e+00, 2.0000e+01, ..., 4.4200e+01, 3.6593e+04,\n",
              "        4.2100e+01],\n",
              "       [3.0000e+00, 2.0000e+00, 1.0000e+00, ..., 4.4000e+01, 7.6244e+04,\n",
              "        5.8370e+01],\n",
              "       [2.0000e+00, 1.0000e+00, 2.0000e+00, ..., 4.4000e+01, 7.6244e+04,\n",
              "        5.8370e+01]])"
            ]
          },
          "metadata": {
            "tags": []
          },
          "execution_count": 370
        }
      ]
    },
    {
      "cell_type": "code",
      "metadata": {
        "id": "X2eo1dUpFxyI",
        "colab_type": "code",
        "outputId": "11ff7fe8-a0d7-4821-ed9a-795176e284ee",
        "colab": {
          "base_uri": "https://localhost:8080/",
          "height": 185
        }
      },
      "source": [
        "# construct predictions \n",
        "test_df['predicted_rf'] = rf.predict(test_features)\n",
        "print(\"MSE_rf\", mean_squared_error(test_df['rent'], test_df['predicted_rf']))\n",
        "\n",
        "test_df['predicted_gb'] = gb.predict(test_features)\n",
        "print(\"MSE_gb\", mean_squared_error(test_df['rent'], test_df['predicted_gb']))\n",
        "\n",
        "test_df['predicted_ab'] = ab.predict(test_features)\n",
        "print(\"MSE_ab\", mean_squared_error(test_df['rent'], test_df['predicted_ab']))\n",
        "\n",
        "test_df['predicted_br'] = br.predict(test_features)\n",
        "print(\"MSE_br\", mean_squared_error(test_df['rent'], test_df['predicted_br']))\n",
        "\n",
        "test_df['predicted_lr'] = lreg.predict(test_features)\n",
        "print(\"MSE_lreg\", mean_squared_error(test_df['rent'], test_df['predicted_lr']))\n",
        "\n",
        "test_df['predicted_knn'] = knn_gs.predict(test_features)\n",
        "print(\"MSE_knn\", mean_squared_error(test_df['rent'], test_df['predicted_knn']))\n",
        "\n",
        "test_df['predicted_v'] = voter.predict(test_features)\n",
        "print(\"MSE_voter\", mean_squared_error(test_df['rent'], test_df['predicted_v']))\n",
        "\n",
        "test_df['predicted_rscv_best'] = best_random.predict(test_features)   #Testing randomized search CV\n",
        "print(\"MSE_Best_RSCV\", mean_squared_error(test_df['rent'], test_df['predicted_rscv_best']))\n",
        "\n"
      ],
      "execution_count": 371,
      "outputs": [
        {
          "output_type": "stream",
          "text": [
            "MSE_rf 2369543.8237394583\n",
            "MSE_gb 2281905.3433675137\n",
            "MSE_ab 11656765.734535042\n",
            "MSE_br 2339523.21823827\n",
            "MSE_lreg 3318977.951345667\n",
            "MSE_knn 2829891.9005977777\n",
            "MSE_voter 2696418.8346465067\n",
            "MSE_RSCV 2135752.289256745\n",
            "MSE_Best_RSCV 2135752.289256745\n"
          ],
          "name": "stdout"
        }
      ]
    },
    {
      "cell_type": "markdown",
      "metadata": {
        "id": "IMonlsifKo9D",
        "colab_type": "text"
      },
      "source": [
        "##Display random sample for testing purposes"
      ]
    },
    {
      "cell_type": "code",
      "metadata": {
        "id": "zbFsL8z6KnUi",
        "colab_type": "code",
        "colab": {
          "base_uri": "https://localhost:8080/",
          "height": 332
        },
        "outputId": "ab8c7ec7-ba89-455d-ba84-e1d39aa32017"
      },
      "source": [
        "display(test_df[['rent','predicted_rf','predicted_gb','predicted_ab',\n",
        "                 'predicted_br','predicted_lr','predicted_knn','predicted_v',\n",
        "                 'predicted_rscv_best']].sample(5).transpose())"
      ],
      "execution_count": 375,
      "outputs": [
        {
          "output_type": "display_data",
          "data": {
            "text/html": [
              "<div>\n",
              "<style scoped>\n",
              "    .dataframe tbody tr th:only-of-type {\n",
              "        vertical-align: middle;\n",
              "    }\n",
              "\n",
              "    .dataframe tbody tr th {\n",
              "        vertical-align: top;\n",
              "    }\n",
              "\n",
              "    .dataframe thead th {\n",
              "        text-align: right;\n",
              "    }\n",
              "</style>\n",
              "<table border=\"1\" class=\"dataframe\">\n",
              "  <thead>\n",
              "    <tr style=\"text-align: right;\">\n",
              "      <th>rental_id</th>\n",
              "      <th>7432930</th>\n",
              "      <th>7500238</th>\n",
              "      <th>7481374</th>\n",
              "      <th>7462291</th>\n",
              "      <th>7516789</th>\n",
              "    </tr>\n",
              "  </thead>\n",
              "  <tbody>\n",
              "    <tr>\n",
              "      <th>rent</th>\n",
              "      <td>2649.000000</td>\n",
              "      <td>6000.000000</td>\n",
              "      <td>2550.000000</td>\n",
              "      <td>3000.000000</td>\n",
              "      <td>3995.000000</td>\n",
              "    </tr>\n",
              "    <tr>\n",
              "      <th>predicted_rf</th>\n",
              "      <td>2731.520000</td>\n",
              "      <td>5026.600000</td>\n",
              "      <td>2991.174242</td>\n",
              "      <td>3058.000000</td>\n",
              "      <td>4794.100000</td>\n",
              "    </tr>\n",
              "    <tr>\n",
              "      <th>predicted_gb</th>\n",
              "      <td>3360.668938</td>\n",
              "      <td>5934.583032</td>\n",
              "      <td>2681.004477</td>\n",
              "      <td>2561.386409</td>\n",
              "      <td>3810.472398</td>\n",
              "    </tr>\n",
              "    <tr>\n",
              "      <th>predicted_ab</th>\n",
              "      <td>5770.871489</td>\n",
              "      <td>7525.776929</td>\n",
              "      <td>4396.158076</td>\n",
              "      <td>8170.547341</td>\n",
              "      <td>5996.582886</td>\n",
              "    </tr>\n",
              "    <tr>\n",
              "      <th>predicted_br</th>\n",
              "      <td>2780.850000</td>\n",
              "      <td>4870.900000</td>\n",
              "      <td>2929.138462</td>\n",
              "      <td>3129.650000</td>\n",
              "      <td>3935.166667</td>\n",
              "    </tr>\n",
              "    <tr>\n",
              "      <th>predicted_lr</th>\n",
              "      <td>1918.878973</td>\n",
              "      <td>6796.012383</td>\n",
              "      <td>2870.848083</td>\n",
              "      <td>3119.768489</td>\n",
              "      <td>4054.982343</td>\n",
              "    </tr>\n",
              "    <tr>\n",
              "      <th>predicted_knn</th>\n",
              "      <td>2881.133333</td>\n",
              "      <td>5797.466667</td>\n",
              "      <td>3067.000000</td>\n",
              "      <td>2667.866667</td>\n",
              "      <td>3971.800000</td>\n",
              "    </tr>\n",
              "    <tr>\n",
              "      <th>predicted_v</th>\n",
              "      <td>3247.205585</td>\n",
              "      <td>5764.798995</td>\n",
              "      <td>3259.388291</td>\n",
              "      <td>4011.733714</td>\n",
              "      <td>4545.432520</td>\n",
              "    </tr>\n",
              "    <tr>\n",
              "      <th>predicted_rscv_best</th>\n",
              "      <td>2773.187420</td>\n",
              "      <td>5336.944449</td>\n",
              "      <td>2769.542952</td>\n",
              "      <td>2858.640844</td>\n",
              "      <td>4132.024563</td>\n",
              "    </tr>\n",
              "  </tbody>\n",
              "</table>\n",
              "</div>"
            ],
            "text/plain": [
              "rental_id                7432930      7500238  ...      7462291      7516789\n",
              "rent                 2649.000000  6000.000000  ...  3000.000000  3995.000000\n",
              "predicted_rf         2731.520000  5026.600000  ...  3058.000000  4794.100000\n",
              "predicted_gb         3360.668938  5934.583032  ...  2561.386409  3810.472398\n",
              "predicted_ab         5770.871489  7525.776929  ...  8170.547341  5996.582886\n",
              "predicted_br         2780.850000  4870.900000  ...  3129.650000  3935.166667\n",
              "predicted_lr         1918.878973  6796.012383  ...  3119.768489  4054.982343\n",
              "predicted_knn        2881.133333  5797.466667  ...  2667.866667  3971.800000\n",
              "predicted_v          3247.205585  5764.798995  ...  4011.733714  4545.432520\n",
              "predicted_rscv_best  2773.187420  5336.944449  ...  2858.640844  4132.024563\n",
              "\n",
              "[9 rows x 5 columns]"
            ]
          },
          "metadata": {
            "tags": []
          }
        }
      ]
    },
    {
      "cell_type": "markdown",
      "metadata": {
        "id": "qU0Ti2AxFxyL",
        "colab_type": "text"
      },
      "source": [
        "#### Predict and Measure Using Test 1 (Hyper Tuned RF Regressor)"
      ]
    },
    {
      "cell_type": "markdown",
      "metadata": {
        "id": "hi8AqZ3tFxyS",
        "colab_type": "text"
      },
      "source": [
        "# Combine Data, Predict Values for Test 3"
      ]
    },
    {
      "cell_type": "code",
      "metadata": {
        "id": "mtYphFHlFxyT",
        "colab_type": "code",
        "outputId": "54f9d8f6-8e21-45d1-c07a-bb2dfc432645",
        "colab": {
          "base_uri": "https://localhost:8080/",
          "height": 147
        }
      },
      "source": [
        "master_df = train_df.append(test_df, sort=False)\n",
        "\n",
        "#impute missing values with imputer\n",
        "imp = SimpleImputer(missing_values=np.nan, strategy='median')\n",
        "imp.fit(master_features)\n",
        "imp.transform(master_features)\n",
        "\n",
        "master_features = master_df[feature_cols].fillna(master_df[feature_cols].median(), axis=0)\n",
        "\n",
        "master_target = master_df['rent']\n",
        "\n",
        "rf.fit(master_features, master_target)\n",
        "gb.fit(master_features, master_target)\n",
        "ab.fit(master_features, master_target)\n",
        "br.fit(master_features, master_target)\n",
        "lreg.fit(master_features, master_target)\n",
        "\n",
        "params_knn = {'n_neighbors': np.arange(1, 30)}#use gridsearch to test all values for n_neighbors\n",
        "knn_gs = GridSearchCV(knn, params_knn, cv=20)#fit model to training data\n",
        "knn_gs.fit(master_features, master_target)\n",
        "\n",
        "estimators=[('knn', knn_gs), ('rf', rf), ('lreg', lreg),('br',br),('ab',ab),('best_random',best_random)]\n",
        "voter = VotingRegressor(estimators)\n",
        "voter.fit(master_features, master_target)\n",
        "\n",
        "best_random.fit(master_features, master_target)"
      ],
      "execution_count": 377,
      "outputs": [
        {
          "output_type": "execute_result",
          "data": {
            "text/plain": [
              "RandomForestRegressor(bootstrap=True, criterion='mse', max_depth=50,\n",
              "                      max_features='auto', max_leaf_nodes=None,\n",
              "                      min_impurity_decrease=0.0, min_impurity_split=None,\n",
              "                      min_samples_leaf=2, min_samples_split=5,\n",
              "                      min_weight_fraction_leaf=0.0, n_estimators=2000,\n",
              "                      n_jobs=None, oob_score=False, random_state=None,\n",
              "                      verbose=0, warm_start=False)"
            ]
          },
          "metadata": {
            "tags": []
          },
          "execution_count": 377
        }
      ]
    },
    {
      "cell_type": "markdown",
      "metadata": {
        "id": "tpzv7J7UFxyg",
        "colab_type": "text"
      },
      "source": [
        "#### Best Randomized Search CV (test2)"
      ]
    },
    {
      "cell_type": "code",
      "metadata": {
        "id": "n7IB-WxNFxyh",
        "colab_type": "code",
        "outputId": "24012f7b-1e5b-4367-c0b7-c83e4d6564d7",
        "colab": {
          "base_uri": "https://localhost:8080/",
          "height": 36
        }
      },
      "source": [
        "submit2_features = submit2_df[feature_cols].fillna(master_df[feature_cols].median(), axis=0)\n",
        "submit2_df['predictions'] = best_random.predict(submit2_features)\n",
        "submit2_df['predictions'].to_csv('submission_rf.csv', header=True)\n",
        "\n",
        "submit2_df['fake_rent'] = np.ones(submit2_df['predictions'].shape) * master_target.median()\n",
        "print(\"MVE_best_rf: \", mean_squared_error(submit2_df['predictions'], submit2_df['fake_rent']))"
      ],
      "execution_count": 378,
      "outputs": [
        {
          "output_type": "stream",
          "text": [
            "MVE_best_rf:  5430249.638488843\n"
          ],
          "name": "stdout"
        }
      ]
    },
    {
      "cell_type": "markdown",
      "metadata": {
        "id": "9l4A2raKFxym",
        "colab_type": "text"
      },
      "source": [
        "#### Random Forest Regressor (test2)"
      ]
    },
    {
      "cell_type": "code",
      "metadata": {
        "scrolled": true,
        "id": "pylCVeoFFxyn",
        "colab_type": "code",
        "outputId": "781f0f94-a8e9-4a51-85e9-db5579895015",
        "colab": {
          "base_uri": "https://localhost:8080/",
          "height": 36
        }
      },
      "source": [
        "submit2_features = submit2_df[feature_cols].fillna(master_df[feature_cols].median(), axis=0)\n",
        "submit2_df['predictions'] = rf.predict(submit2_features)\n",
        "submit2_df['predictions'].to_csv('submission_rf.csv', header=True)\n",
        "\n",
        "submit2_df['fake_rent'] = np.ones(submit2_df['predictions'].shape) * master_target.median()\n",
        "print(\"MVE_rf: \", mean_squared_error(submit2_df['predictions'], submit2_df['fake_rent']))"
      ],
      "execution_count": 379,
      "outputs": [
        {
          "output_type": "stream",
          "text": [
            "MVE_rf:  5943211.154572495\n"
          ],
          "name": "stdout"
        }
      ]
    },
    {
      "cell_type": "markdown",
      "metadata": {
        "id": "5p0Rwt4XFxyt",
        "colab_type": "text"
      },
      "source": [
        "#### GradientBoosting Regressor (test2)"
      ]
    },
    {
      "cell_type": "code",
      "metadata": {
        "id": "N3ISHZx0Fxyu",
        "colab_type": "code",
        "outputId": "a7b0f7d5-ef0d-4d1a-ba23-0f0704f2cc27",
        "colab": {
          "base_uri": "https://localhost:8080/",
          "height": 36
        }
      },
      "source": [
        "submit2_features = submit2_df[feature_cols].fillna(master_df[feature_cols].median(), axis=0)\n",
        "submit2_df['predictions'] = rf.predict(submit2_features)\n",
        "submit2_df['predictions'].to_csv('sample_submission2.csv', header=True)\n",
        "\n",
        "submit2_df['fake_rent'] = np.ones(submit2_df['predictions'].shape) * master_target.median()\n",
        "print(\"MVE_gb: \", mean_squared_error(submit2_df['predictions'], submit2_df['fake_rent']))"
      ],
      "execution_count": 380,
      "outputs": [
        {
          "output_type": "stream",
          "text": [
            "MVE_gb:  5943211.154572495\n"
          ],
          "name": "stdout"
        }
      ]
    },
    {
      "cell_type": "markdown",
      "metadata": {
        "id": "zzTgsaDpFxyx",
        "colab_type": "text"
      },
      "source": [
        "#### ABoost Regressor (test2)"
      ]
    },
    {
      "cell_type": "code",
      "metadata": {
        "id": "MnBrw2WLFxy0",
        "colab_type": "code",
        "outputId": "cae9a47e-1cb0-4e8d-b8df-f1d93bfd3c57",
        "colab": {
          "base_uri": "https://localhost:8080/",
          "height": 36
        }
      },
      "source": [
        "submit2_features = submit2_df[feature_cols].fillna(master_df[feature_cols].median(), axis=0)\n",
        "submit2_df['predictions'] = ab.predict(submit2_features)\n",
        "submit2_df['predictions'].to_csv('submission_ab.csv', header=True)\n",
        "\n",
        "submit2_df['fake_rent'] = np.ones(submit2_df['predictions'].shape) * master_target.median()\n",
        "print(\"MVE_ab: \", mean_squared_error(submit2_df['predictions'], submit2_df['fake_rent']))"
      ],
      "execution_count": 381,
      "outputs": [
        {
          "output_type": "stream",
          "text": [
            "MVE_ab:  6240317.591662033\n"
          ],
          "name": "stdout"
        }
      ]
    },
    {
      "cell_type": "markdown",
      "metadata": {
        "id": "J8SiTMhQFxy8",
        "colab_type": "text"
      },
      "source": [
        "#### Bagged Regressor (test2)"
      ]
    },
    {
      "cell_type": "code",
      "metadata": {
        "id": "z4fxHu0SFxy8",
        "colab_type": "code",
        "outputId": "a9bb5041-1f6f-4a28-e57b-4d03576a0d35",
        "colab": {
          "base_uri": "https://localhost:8080/",
          "height": 36
        }
      },
      "source": [
        "submit2_features = submit2_df[feature_cols].fillna(master_df[feature_cols].median(), axis=0)\n",
        "submit2_df['predictions'] = br.predict(submit2_features)\n",
        "submit2_df['predictions'].to_csv('submission_br.csv', header=True)\n",
        "\n",
        "submit2_df['fake_rent'] = np.ones(submit2_df['predictions'].shape) * master_target.median()\n",
        "print(\"MVE_br: \", mean_squared_error(submit2_df['predictions'], submit2_df['fake_rent']))"
      ],
      "execution_count": 382,
      "outputs": [
        {
          "output_type": "stream",
          "text": [
            "MVE_br:  5579690.712832238\n"
          ],
          "name": "stdout"
        }
      ]
    },
    {
      "cell_type": "markdown",
      "metadata": {
        "id": "E4eFeLxHFxy_",
        "colab_type": "text"
      },
      "source": [
        "#### Linear Regression (test2)"
      ]
    },
    {
      "cell_type": "code",
      "metadata": {
        "id": "iMdbLaoTFxzA",
        "colab_type": "code",
        "outputId": "063d8233-ec82-4a56-96da-6b40b1c5cf28",
        "colab": {
          "base_uri": "https://localhost:8080/",
          "height": 36
        }
      },
      "source": [
        "submit2_features = submit2_df[feature_cols].fillna(master_df[feature_cols].median(), axis=0)\n",
        "submit2_df['predictions'] = lreg.predict(submit2_features)\n",
        "submit2_df['predictions'].to_csv('sample_submission_lreg.csv', header=True)\n",
        "\n",
        "submit2_df['fake_rent'] = np.ones(submit2_df['predictions'].shape) * master_target.median()\n",
        "print(\"MVE_lreg: \", mean_squared_error(submit2_df['predictions'], submit2_df['fake_rent']))"
      ],
      "execution_count": 383,
      "outputs": [
        {
          "output_type": "stream",
          "text": [
            "MVE_lreg:  4482816.462852407\n"
          ],
          "name": "stdout"
        }
      ]
    },
    {
      "cell_type": "markdown",
      "metadata": {
        "id": "pCHimY55FxzD",
        "colab_type": "text"
      },
      "source": [
        "#### KNN Regressor (test2)"
      ]
    },
    {
      "cell_type": "code",
      "metadata": {
        "id": "xMXFmIUWFxzE",
        "colab_type": "code",
        "outputId": "6928ce2e-160a-4ce8-ff1d-6cfaa1ca638f",
        "colab": {
          "base_uri": "https://localhost:8080/",
          "height": 36
        }
      },
      "source": [
        "submit2_features = submit2_df[feature_cols].fillna(master_df[feature_cols].median(), axis=0)\n",
        "submit2_df['predictions'] = knn_gs.predict(submit2_features)\n",
        "submit2_df['predictions'].to_csv('sample_submission_knn.csv', header=True)\n",
        "\n",
        "submit2_df['fake_rent'] = np.ones(submit2_df['predictions'].shape) * master_target.median()\n",
        "print(\"MVE_knn: \", mean_squared_error(submit2_df['predictions'], submit2_df['fake_rent']))\n"
      ],
      "execution_count": 385,
      "outputs": [
        {
          "output_type": "stream",
          "text": [
            "MVE_knn:  5440391.373351563\n"
          ],
          "name": "stdout"
        }
      ]
    },
    {
      "cell_type": "markdown",
      "metadata": {
        "id": "9w3Y9-4zFxzI",
        "colab_type": "text"
      },
      "source": [
        "### Voting Regressor (test2)"
      ]
    },
    {
      "cell_type": "code",
      "metadata": {
        "id": "zY8OQdRVFxzJ",
        "colab_type": "code",
        "outputId": "ff818bac-8659-40eb-87c5-fd1d3a18b7f6",
        "colab": {
          "base_uri": "https://localhost:8080/",
          "height": 36
        }
      },
      "source": [
        "submit2_features = submit2_df[feature_cols].fillna(master_df[feature_cols].median(), axis=0)\n",
        "submit2_df['predictions'] = voter.predict(submit2_features)\n",
        "submit2_df['predictions'].to_csv('submission_vote.csv', header=True)\n",
        "\n",
        "submit2_df['fake_rent'] = np.ones(submit2_df['predictions'].shape) * master_target.median()\n",
        "print(\"MVE_vote: \", mean_squared_error(submit2_df['predictions'], submit2_df['fake_rent']))"
      ],
      "execution_count": 386,
      "outputs": [
        {
          "output_type": "stream",
          "text": [
            "MVE_vote:  5153130.392821633\n"
          ],
          "name": "stdout"
        }
      ]
    }
  ]
}