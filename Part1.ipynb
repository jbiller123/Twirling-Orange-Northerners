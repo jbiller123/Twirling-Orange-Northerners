{
 "cells": [
  {
   "cell_type": "markdown",
   "metadata": {},
   "source": [
    "# Part 1"
   ]
  },
  {
   "cell_type": "code",
   "execution_count": 1,
   "metadata": {},
   "outputs": [
    {
     "name": "stdout",
     "output_type": "stream",
     "text": [
      "Requirement already satisfied: sklearn in /usr/local/lib/python3.7/site-packages (0.0)\n",
      "Requirement already satisfied: scikit-learn in /usr/local/lib/python3.7/site-packages (from sklearn) (0.21.3)\n",
      "Requirement already satisfied: joblib>=0.11 in /usr/local/lib/python3.7/site-packages (from scikit-learn->sklearn) (0.14.0)\n",
      "Requirement already satisfied: scipy>=0.17.0 in /usr/local/lib/python3.7/site-packages (from scikit-learn->sklearn) (1.3.2)\n",
      "Requirement already satisfied: numpy>=1.11.0 in /usr/local/lib/python3.7/site-packages (from scikit-learn->sklearn) (1.17.4)\n",
      "Note: you may need to restart the kernel to use updated packages.\n"
     ]
    }
   ],
   "source": [
    "pip install sklearn"
   ]
  },
  {
   "cell_type": "code",
   "execution_count": 2,
   "metadata": {},
   "outputs": [
    {
     "name": "stdout",
     "output_type": "stream",
     "text": [
      "Requirement already satisfied: panda in /usr/local/lib/python3.7/site-packages (0.3.1)\n",
      "Requirement already satisfied: requests in /usr/local/lib/python3.7/site-packages (from panda) (2.22.0)\n",
      "Requirement already satisfied: setuptools in /usr/local/lib/python3.7/site-packages (from panda) (41.6.0)\n",
      "Requirement already satisfied: idna<2.9,>=2.5 in /usr/local/lib/python3.7/site-packages (from requests->panda) (2.8)\n",
      "Requirement already satisfied: certifi>=2017.4.17 in /usr/local/lib/python3.7/site-packages (from requests->panda) (2019.9.11)\n",
      "Requirement already satisfied: chardet<3.1.0,>=3.0.2 in /usr/local/lib/python3.7/site-packages (from requests->panda) (3.0.4)\n",
      "Requirement already satisfied: urllib3!=1.25.0,!=1.25.1,<1.26,>=1.21.1 in /usr/local/lib/python3.7/site-packages (from requests->panda) (1.25.7)\n",
      "Note: you may need to restart the kernel to use updated packages.\n"
     ]
    }
   ],
   "source": [
    "pip install panda"
   ]
  },
  {
   "cell_type": "code",
   "execution_count": 3,
   "metadata": {},
   "outputs": [
    {
     "name": "stdout",
     "output_type": "stream",
     "text": [
      "Requirement already satisfied: fancyimpute in /usr/local/lib/python3.7/site-packages (0.5.4)\n",
      "Requirement already satisfied: scikit-learn>=0.21.2 in /usr/local/lib/python3.7/site-packages (from fancyimpute) (0.21.3)\n",
      "Requirement already satisfied: cvxpy>=1.0.6 in /usr/local/lib/python3.7/site-packages (from fancyimpute) (1.0.25)\n",
      "Requirement already satisfied: keras>=2.0.0 in /usr/local/lib/python3.7/site-packages (from fancyimpute) (2.3.1)\n",
      "Requirement already satisfied: knnimpute in /usr/local/lib/python3.7/site-packages (from fancyimpute) (0.1.0)\n",
      "Requirement already satisfied: tensorflow in /usr/local/lib/python3.7/site-packages (from fancyimpute) (2.0.0)\n",
      "Requirement already satisfied: numpy>=1.10 in /usr/local/lib/python3.7/site-packages (from fancyimpute) (1.17.4)\n",
      "Requirement already satisfied: scipy in /usr/local/lib/python3.7/site-packages (from fancyimpute) (1.3.2)\n",
      "Requirement already satisfied: joblib>=0.11 in /usr/local/lib/python3.7/site-packages (from scikit-learn>=0.21.2->fancyimpute) (0.14.0)\n",
      "Requirement already satisfied: six in /usr/local/Cellar/ipython/7.8.0/libexec/vendor/lib/python3.7/site-packages (from cvxpy>=1.0.6->fancyimpute) (1.12.0)\n",
      "Requirement already satisfied: multiprocess in /usr/local/lib/python3.7/site-packages (from cvxpy>=1.0.6->fancyimpute) (0.70.9)\n",
      "Requirement already satisfied: scs>=1.1.3 in /usr/local/lib/python3.7/site-packages (from cvxpy>=1.0.6->fancyimpute) (2.1.1.post2)\n",
      "Requirement already satisfied: osqp>=0.4.1 in /usr/local/lib/python3.7/site-packages (from cvxpy>=1.0.6->fancyimpute) (0.6.1)\n",
      "Requirement already satisfied: ecos>=2 in /usr/local/lib/python3.7/site-packages (from cvxpy>=1.0.6->fancyimpute) (2.0.7.post1)\n",
      "Requirement already satisfied: keras-applications>=1.0.6 in /usr/local/lib/python3.7/site-packages (from keras>=2.0.0->fancyimpute) (1.0.8)\n",
      "Requirement already satisfied: pyyaml in /usr/local/lib/python3.7/site-packages (from keras>=2.0.0->fancyimpute) (5.1.2)\n",
      "Requirement already satisfied: keras-preprocessing>=1.0.5 in /usr/local/lib/python3.7/site-packages (from keras>=2.0.0->fancyimpute) (1.1.0)\n",
      "Requirement already satisfied: h5py in /usr/local/lib/python3.7/site-packages (from keras>=2.0.0->fancyimpute) (2.10.0)\n",
      "Requirement already satisfied: tensorboard<2.1.0,>=2.0.0 in /usr/local/lib/python3.7/site-packages (from tensorflow->fancyimpute) (2.0.1)\n",
      "Requirement already satisfied: protobuf>=3.6.1 in /usr/local/lib/python3.7/site-packages (from tensorflow->fancyimpute) (3.10.0)\n",
      "Requirement already satisfied: gast==0.2.2 in /usr/local/lib/python3.7/site-packages (from tensorflow->fancyimpute) (0.2.2)\n",
      "Requirement already satisfied: absl-py>=0.7.0 in /usr/local/lib/python3.7/site-packages (from tensorflow->fancyimpute) (0.8.1)\n",
      "Requirement already satisfied: grpcio>=1.8.6 in /usr/local/lib/python3.7/site-packages (from tensorflow->fancyimpute) (1.25.0)\n",
      "Requirement already satisfied: astor>=0.6.0 in /usr/local/lib/python3.7/site-packages (from tensorflow->fancyimpute) (0.8.0)\n",
      "Requirement already satisfied: google-pasta>=0.1.6 in /usr/local/lib/python3.7/site-packages (from tensorflow->fancyimpute) (0.1.8)\n",
      "Requirement already satisfied: tensorflow-estimator<2.1.0,>=2.0.0 in /usr/local/lib/python3.7/site-packages (from tensorflow->fancyimpute) (2.0.1)\n",
      "Requirement already satisfied: wrapt>=1.11.1 in /usr/local/lib/python3.7/site-packages (from tensorflow->fancyimpute) (1.11.2)\n",
      "Requirement already satisfied: opt-einsum>=2.3.2 in /usr/local/lib/python3.7/site-packages (from tensorflow->fancyimpute) (3.1.0)\n",
      "Requirement already satisfied: termcolor>=1.1.0 in /usr/local/lib/python3.7/site-packages (from tensorflow->fancyimpute) (1.1.0)\n",
      "Requirement already satisfied: wheel>=0.26 in /usr/local/lib/python3.7/site-packages (from tensorflow->fancyimpute) (0.33.6)\n",
      "Requirement already satisfied: dill>=0.3.1 in /usr/local/lib/python3.7/site-packages (from multiprocess->cvxpy>=1.0.6->fancyimpute) (0.3.1.1)\n",
      "Requirement already satisfied: future in /usr/local/lib/python3.7/site-packages (from osqp>=0.4.1->cvxpy>=1.0.6->fancyimpute) (0.18.2)\n",
      "Requirement already satisfied: google-auth-oauthlib<0.5,>=0.4.1 in /usr/local/lib/python3.7/site-packages (from tensorboard<2.1.0,>=2.0.0->tensorflow->fancyimpute) (0.4.1)\n",
      "Requirement already satisfied: google-auth<2,>=1.6.3 in /usr/local/lib/python3.7/site-packages (from tensorboard<2.1.0,>=2.0.0->tensorflow->fancyimpute) (1.7.1)\n",
      "Requirement already satisfied: setuptools>=41.0.0 in /usr/local/lib/python3.7/site-packages (from tensorboard<2.1.0,>=2.0.0->tensorflow->fancyimpute) (41.6.0)\n",
      "Requirement already satisfied: markdown>=2.6.8 in /usr/local/lib/python3.7/site-packages (from tensorboard<2.1.0,>=2.0.0->tensorflow->fancyimpute) (3.1.1)\n",
      "Requirement already satisfied: werkzeug>=0.11.15 in /usr/local/lib/python3.7/site-packages (from tensorboard<2.1.0,>=2.0.0->tensorflow->fancyimpute) (0.16.0)\n",
      "Requirement already satisfied: requests-oauthlib>=0.7.0 in /usr/local/lib/python3.7/site-packages (from google-auth-oauthlib<0.5,>=0.4.1->tensorboard<2.1.0,>=2.0.0->tensorflow->fancyimpute) (1.3.0)\n",
      "Requirement already satisfied: cachetools<3.2,>=2.0.0 in /usr/local/lib/python3.7/site-packages (from google-auth<2,>=1.6.3->tensorboard<2.1.0,>=2.0.0->tensorflow->fancyimpute) (3.1.1)\n",
      "Requirement already satisfied: pyasn1-modules>=0.2.1 in /usr/local/lib/python3.7/site-packages (from google-auth<2,>=1.6.3->tensorboard<2.1.0,>=2.0.0->tensorflow->fancyimpute) (0.2.7)\n",
      "Requirement already satisfied: rsa<4.1,>=3.1.4 in /usr/local/lib/python3.7/site-packages (from google-auth<2,>=1.6.3->tensorboard<2.1.0,>=2.0.0->tensorflow->fancyimpute) (4.0)\n",
      "Requirement already satisfied: requests>=2.0.0 in /usr/local/lib/python3.7/site-packages (from requests-oauthlib>=0.7.0->google-auth-oauthlib<0.5,>=0.4.1->tensorboard<2.1.0,>=2.0.0->tensorflow->fancyimpute) (2.22.0)\n",
      "Requirement already satisfied: oauthlib>=3.0.0 in /usr/local/lib/python3.7/site-packages (from requests-oauthlib>=0.7.0->google-auth-oauthlib<0.5,>=0.4.1->tensorboard<2.1.0,>=2.0.0->tensorflow->fancyimpute) (3.1.0)\n",
      "Requirement already satisfied: pyasn1<0.5.0,>=0.4.6 in /usr/local/lib/python3.7/site-packages (from pyasn1-modules>=0.2.1->google-auth<2,>=1.6.3->tensorboard<2.1.0,>=2.0.0->tensorflow->fancyimpute) (0.4.8)\n",
      "Requirement already satisfied: chardet<3.1.0,>=3.0.2 in /usr/local/lib/python3.7/site-packages (from requests>=2.0.0->requests-oauthlib>=0.7.0->google-auth-oauthlib<0.5,>=0.4.1->tensorboard<2.1.0,>=2.0.0->tensorflow->fancyimpute) (3.0.4)\n",
      "Requirement already satisfied: certifi>=2017.4.17 in /usr/local/lib/python3.7/site-packages (from requests>=2.0.0->requests-oauthlib>=0.7.0->google-auth-oauthlib<0.5,>=0.4.1->tensorboard<2.1.0,>=2.0.0->tensorflow->fancyimpute) (2019.9.11)\n",
      "Requirement already satisfied: urllib3!=1.25.0,!=1.25.1,<1.26,>=1.21.1 in /usr/local/lib/python3.7/site-packages (from requests>=2.0.0->requests-oauthlib>=0.7.0->google-auth-oauthlib<0.5,>=0.4.1->tensorboard<2.1.0,>=2.0.0->tensorflow->fancyimpute) (1.25.7)\n",
      "Requirement already satisfied: idna<2.9,>=2.5 in /usr/local/lib/python3.7/site-packages (from requests>=2.0.0->requests-oauthlib>=0.7.0->google-auth-oauthlib<0.5,>=0.4.1->tensorboard<2.1.0,>=2.0.0->tensorflow->fancyimpute) (2.8)\n",
      "Note: you may need to restart the kernel to use updated packages.\n"
     ]
    }
   ],
   "source": [
    "pip install fancyimpute"
   ]
  },
  {
   "cell_type": "code",
   "execution_count": 4,
   "metadata": {},
   "outputs": [
    {
     "name": "stdout",
     "output_type": "stream",
     "text": [
      "Requirement already satisfied: pandas in /usr/local/lib/python3.7/site-packages (0.25.3)\n",
      "Requirement already satisfied: pytz>=2017.2 in /usr/local/lib/python3.7/site-packages (from pandas) (2019.3)\n",
      "Requirement already satisfied: numpy>=1.13.3 in /usr/local/lib/python3.7/site-packages (from pandas) (1.17.4)\n",
      "Requirement already satisfied: python-dateutil>=2.6.1 in /usr/local/Cellar/ipython/7.8.0/libexec/vendor/lib/python3.7/site-packages (from pandas) (2.8.0)\n",
      "Requirement already satisfied: six>=1.5 in /usr/local/Cellar/ipython/7.8.0/libexec/vendor/lib/python3.7/site-packages (from python-dateutil>=2.6.1->pandas) (1.12.0)\n",
      "Note: you may need to restart the kernel to use updated packages.\n"
     ]
    }
   ],
   "source": [
    "pip install pandas"
   ]
  },
  {
   "cell_type": "code",
   "execution_count": 5,
   "metadata": {},
   "outputs": [
    {
     "name": "stdout",
     "output_type": "stream",
     "text": [
      "Requirement already satisfied: matplotlib in /usr/local/lib/python3.7/site-packages (3.1.2)\n",
      "Requirement already satisfied: python-dateutil>=2.1 in /usr/local/Cellar/ipython/7.8.0/libexec/vendor/lib/python3.7/site-packages (from matplotlib) (2.8.0)\n",
      "Requirement already satisfied: kiwisolver>=1.0.1 in /usr/local/lib/python3.7/site-packages (from matplotlib) (1.1.0)\n",
      "Requirement already satisfied: pyparsing!=2.0.4,!=2.1.2,!=2.1.6,>=2.0.1 in /usr/local/lib/python3.7/site-packages (from matplotlib) (2.4.5)\n",
      "Requirement already satisfied: numpy>=1.11 in /usr/local/lib/python3.7/site-packages (from matplotlib) (1.17.4)\n",
      "Requirement already satisfied: cycler>=0.10 in /usr/local/lib/python3.7/site-packages (from matplotlib) (0.10.0)\n",
      "Requirement already satisfied: six>=1.5 in /usr/local/Cellar/ipython/7.8.0/libexec/vendor/lib/python3.7/site-packages (from python-dateutil>=2.1->matplotlib) (1.12.0)\n",
      "Requirement already satisfied: setuptools in /usr/local/lib/python3.7/site-packages (from kiwisolver>=1.0.1->matplotlib) (41.6.0)\n",
      "Note: you may need to restart the kernel to use updated packages.\n"
     ]
    }
   ],
   "source": [
    "pip install matplotlib"
   ]
  },
  {
   "cell_type": "code",
   "execution_count": 6,
   "metadata": {},
   "outputs": [],
   "source": [
    "import numpy as np\n",
    "import pandas as pd\n",
    "import matplotlib.pyplot as plt\n",
    "\n",
    "from sklearn.preprocessing import Imputer  \n",
    "from sklearn.linear_model import LinearRegression\n",
    "from sklearn.linear_model import LogisticRegression\n",
    "\n",
    "from sklearn.metrics import mean_squared_error\n",
    "\n",
    "from sklearn.ensemble import RandomForestRegressor\n",
    "from sklearn.ensemble import BaggingRegressor\n",
    "from sklearn.ensemble import GradientBoostingRegressor\n",
    "from sklearn.impute import SimpleImputer\n",
    "from sklearn.ensemble import VotingRegressor#create a dictionary of our models\n",
    "\n",
    "##from fancyimpute import MICE\n",
    "\n",
    "from sklearn.ensemble import AdaBoostRegressor\n",
    "from sklearn.datasets import make_regression\n",
    "from sklearn.model_selection import GridSearchCV\n",
    "from sklearn import tree\n",
    "from sklearn.neighbors import KNeighborsRegressor\n",
    "from sklearn.model_selection import train_test_split\n",
    "\n",
    "\n",
    "%matplotlib inline"
   ]
  },
  {
   "cell_type": "code",
   "execution_count": 7,
   "metadata": {},
   "outputs": [],
   "source": [
    "import helpers"
   ]
  },
  {
   "cell_type": "code",
   "execution_count": 8,
   "metadata": {},
   "outputs": [],
   "source": [
    "from pprint import pprint\n",
    "from sklearn.model_selection import RandomizedSearchCV #Importing RandomizedSearchCV for random forest regressor"
   ]
  },
  {
   "cell_type": "code",
   "execution_count": 10,
   "metadata": {},
   "outputs": [],
   "source": [
    "train_df = pd.read_csv('https://grantmlong.com/data/SE_rents2018_train.csv', index_col=0)\n",
    "test_df = pd.read_csv('https://grantmlong.com/data/SE_rents2018_test1.csv', index_col=0)\n",
    "submit2_df = pd.read_csv('https://grantmlong.com/data/SE_rents2018_test2.csv', index_col=0)"
   ]
  },
  {
   "cell_type": "code",
   "execution_count": 44,
   "metadata": {},
   "outputs": [
    {
     "data": {
      "text/html": [
       "<div>\n",
       "<style scoped>\n",
       "    .dataframe tbody tr th:only-of-type {\n",
       "        vertical-align: middle;\n",
       "    }\n",
       "\n",
       "    .dataframe tbody tr th {\n",
       "        vertical-align: top;\n",
       "    }\n",
       "\n",
       "    .dataframe thead th {\n",
       "        text-align: right;\n",
       "    }\n",
       "</style>\n",
       "<table border=\"1\" class=\"dataframe\">\n",
       "  <thead>\n",
       "    <tr style=\"text-align: right;\">\n",
       "      <th>rental_id</th>\n",
       "      <th>7236931</th>\n",
       "      <th>7331920</th>\n",
       "      <th>7139224</th>\n",
       "      <th>7364827</th>\n",
       "      <th>7242151</th>\n",
       "    </tr>\n",
       "  </thead>\n",
       "  <tbody>\n",
       "    <tr>\n",
       "      <th>addr_unit</th>\n",
       "      <td>#22A</td>\n",
       "      <td>#406</td>\n",
       "      <td>#18A</td>\n",
       "      <td>#23E</td>\n",
       "      <td>#3B</td>\n",
       "    </tr>\n",
       "    <tr>\n",
       "      <th>building_id</th>\n",
       "      <td>551248</td>\n",
       "      <td>3373</td>\n",
       "      <td>70747</td>\n",
       "      <td>42076</td>\n",
       "      <td>319156</td>\n",
       "    </tr>\n",
       "    <tr>\n",
       "      <th>bedrooms</th>\n",
       "      <td>4</td>\n",
       "      <td>0</td>\n",
       "      <td>3</td>\n",
       "      <td>1</td>\n",
       "      <td>3</td>\n",
       "    </tr>\n",
       "    <tr>\n",
       "      <th>bathrooms</th>\n",
       "      <td>3</td>\n",
       "      <td>1</td>\n",
       "      <td>3</td>\n",
       "      <td>1</td>\n",
       "      <td>1</td>\n",
       "    </tr>\n",
       "    <tr>\n",
       "      <th>size_sqft</th>\n",
       "      <td>1300</td>\n",
       "      <td>475</td>\n",
       "      <td>1886</td>\n",
       "      <td>827</td>\n",
       "      <td>1200</td>\n",
       "    </tr>\n",
       "    <tr>\n",
       "      <th>created_at</th>\n",
       "      <td>2018-06-04 16:31:06</td>\n",
       "      <td>2018-07-03 20:11:43</td>\n",
       "      <td>2018-05-02 16:10:27</td>\n",
       "      <td>2018-07-13 16:06:55</td>\n",
       "      <td>2018-06-05 16:35:40</td>\n",
       "    </tr>\n",
       "    <tr>\n",
       "      <th>addr_street</th>\n",
       "      <td>645 OCEAN AVENUE</td>\n",
       "      <td>93 WORTH STREET</td>\n",
       "      <td>305 EAST 51 STREET</td>\n",
       "      <td>70 WEST 37TH STREET</td>\n",
       "      <td>43 MAC DONOUGH STREET</td>\n",
       "    </tr>\n",
       "    <tr>\n",
       "      <th>addr_city</th>\n",
       "      <td>Brooklyn</td>\n",
       "      <td>New York</td>\n",
       "      <td>New York</td>\n",
       "      <td>New York</td>\n",
       "      <td>Brooklyn</td>\n",
       "    </tr>\n",
       "    <tr>\n",
       "      <th>addr_zip</th>\n",
       "      <td>11226</td>\n",
       "      <td>10013</td>\n",
       "      <td>10022</td>\n",
       "      <td>10018</td>\n",
       "      <td>11216</td>\n",
       "    </tr>\n",
       "    <tr>\n",
       "      <th>addr_lat</th>\n",
       "      <td>40.647</td>\n",
       "      <td>40.7166</td>\n",
       "      <td>40.7554</td>\n",
       "      <td>40.7513</td>\n",
       "      <td>40.6811</td>\n",
       "    </tr>\n",
       "    <tr>\n",
       "      <th>addr_lon</th>\n",
       "      <td>-73.9601</td>\n",
       "      <td>-74.0048</td>\n",
       "      <td>-73.9676</td>\n",
       "      <td>-73.9863</td>\n",
       "      <td>-73.9447</td>\n",
       "    </tr>\n",
       "    <tr>\n",
       "      <th>bin</th>\n",
       "      <td>3.11762e+06</td>\n",
       "      <td>1.00188e+06</td>\n",
       "      <td>1.03968e+06</td>\n",
       "      <td>1.01592e+06</td>\n",
       "      <td>3.05334e+06</td>\n",
       "    </tr>\n",
       "    <tr>\n",
       "      <th>bbl</th>\n",
       "      <td>3051240001</td>\n",
       "      <td>1001737504</td>\n",
       "      <td>1013440001</td>\n",
       "      <td>1008380001</td>\n",
       "      <td>3018510053</td>\n",
       "    </tr>\n",
       "    <tr>\n",
       "      <th>floor_count</th>\n",
       "      <td>6</td>\n",
       "      <td>17</td>\n",
       "      <td>33</td>\n",
       "      <td>24</td>\n",
       "      <td>4</td>\n",
       "    </tr>\n",
       "    <tr>\n",
       "      <th>year_built</th>\n",
       "      <td>1929</td>\n",
       "      <td>2014</td>\n",
       "      <td>2013</td>\n",
       "      <td>2019</td>\n",
       "      <td>1931</td>\n",
       "    </tr>\n",
       "    <tr>\n",
       "      <th>min_to_subway</th>\n",
       "      <td>3.35</td>\n",
       "      <td>3.2333</td>\n",
       "      <td>3.05</td>\n",
       "      <td>2</td>\n",
       "      <td>2.1333</td>\n",
       "    </tr>\n",
       "    <tr>\n",
       "      <th>has_doorman</th>\n",
       "      <td>0</td>\n",
       "      <td>1</td>\n",
       "      <td>1</td>\n",
       "      <td>1</td>\n",
       "      <td>0</td>\n",
       "    </tr>\n",
       "    <tr>\n",
       "      <th>has_elevator</th>\n",
       "      <td>1</td>\n",
       "      <td>1</td>\n",
       "      <td>1</td>\n",
       "      <td>1</td>\n",
       "      <td>0</td>\n",
       "    </tr>\n",
       "    <tr>\n",
       "      <th>has_fireplace</th>\n",
       "      <td>0</td>\n",
       "      <td>0</td>\n",
       "      <td>0</td>\n",
       "      <td>0</td>\n",
       "      <td>0</td>\n",
       "    </tr>\n",
       "    <tr>\n",
       "      <th>has_dishwasher</th>\n",
       "      <td>1</td>\n",
       "      <td>1</td>\n",
       "      <td>1</td>\n",
       "      <td>1</td>\n",
       "      <td>0</td>\n",
       "    </tr>\n",
       "    <tr>\n",
       "      <th>is_furnished</th>\n",
       "      <td>0</td>\n",
       "      <td>0</td>\n",
       "      <td>0</td>\n",
       "      <td>0</td>\n",
       "      <td>0</td>\n",
       "    </tr>\n",
       "    <tr>\n",
       "      <th>has_gym</th>\n",
       "      <td>0</td>\n",
       "      <td>1</td>\n",
       "      <td>1</td>\n",
       "      <td>1</td>\n",
       "      <td>0</td>\n",
       "    </tr>\n",
       "    <tr>\n",
       "      <th>allows_pets</th>\n",
       "      <td>1</td>\n",
       "      <td>1</td>\n",
       "      <td>1</td>\n",
       "      <td>1</td>\n",
       "      <td>1</td>\n",
       "    </tr>\n",
       "    <tr>\n",
       "      <th>has_washer_dryer</th>\n",
       "      <td>1</td>\n",
       "      <td>1</td>\n",
       "      <td>0</td>\n",
       "      <td>0</td>\n",
       "      <td>0</td>\n",
       "    </tr>\n",
       "    <tr>\n",
       "      <th>has_garage</th>\n",
       "      <td>0</td>\n",
       "      <td>0</td>\n",
       "      <td>1</td>\n",
       "      <td>1</td>\n",
       "      <td>0</td>\n",
       "    </tr>\n",
       "    <tr>\n",
       "      <th>has_roofdeck</th>\n",
       "      <td>0</td>\n",
       "      <td>1</td>\n",
       "      <td>0</td>\n",
       "      <td>1</td>\n",
       "      <td>0</td>\n",
       "    </tr>\n",
       "    <tr>\n",
       "      <th>has_concierge</th>\n",
       "      <td>0</td>\n",
       "      <td>1</td>\n",
       "      <td>0</td>\n",
       "      <td>1</td>\n",
       "      <td>0</td>\n",
       "    </tr>\n",
       "    <tr>\n",
       "      <th>has_pool</th>\n",
       "      <td>0</td>\n",
       "      <td>0</td>\n",
       "      <td>1</td>\n",
       "      <td>0</td>\n",
       "      <td>0</td>\n",
       "    </tr>\n",
       "    <tr>\n",
       "      <th>has_garden</th>\n",
       "      <td>0</td>\n",
       "      <td>0</td>\n",
       "      <td>1</td>\n",
       "      <td>0</td>\n",
       "      <td>0</td>\n",
       "    </tr>\n",
       "    <tr>\n",
       "      <th>has_childrens_playroom</th>\n",
       "      <td>0</td>\n",
       "      <td>0</td>\n",
       "      <td>0</td>\n",
       "      <td>0</td>\n",
       "      <td>0</td>\n",
       "    </tr>\n",
       "    <tr>\n",
       "      <th>rent</th>\n",
       "      <td>3925</td>\n",
       "      <td>3350</td>\n",
       "      <td>11500</td>\n",
       "      <td>3772</td>\n",
       "      <td>2595</td>\n",
       "    </tr>\n",
       "    <tr>\n",
       "      <th>no_fee</th>\n",
       "      <td>1</td>\n",
       "      <td>0</td>\n",
       "      <td>0</td>\n",
       "      <td>1</td>\n",
       "      <td>1</td>\n",
       "    </tr>\n",
       "    <tr>\n",
       "      <th>description</th>\n",
       "      <td>MAGNIFICENT GUT RENOVATED 4 BEDROOM 3 BATHROOM...</td>\n",
       "      <td>Want to live in the hottest neighborhood in to...</td>\n",
       "      <td>High floor totally renovated 3 bedrooms, 3 bat...</td>\n",
       "      <td>**SHORT TERM LEASES AVAILABLE**\\n\\n****Photogr...</td>\n",
       "      <td>This is a Huuge 3 bedroom apt. located in a pr...</td>\n",
       "    </tr>\n",
       "    <tr>\n",
       "      <th>neighborhood</th>\n",
       "      <td>Flatbush</td>\n",
       "      <td>Tribeca</td>\n",
       "      <td>Midtown East</td>\n",
       "      <td>Midtown South</td>\n",
       "      <td>Bedford-Stuyvesant</td>\n",
       "    </tr>\n",
       "    <tr>\n",
       "      <th>borough</th>\n",
       "      <td>Brooklyn</td>\n",
       "      <td>Manhattan</td>\n",
       "      <td>Manhattan</td>\n",
       "      <td>Manhattan</td>\n",
       "      <td>Brooklyn</td>\n",
       "    </tr>\n",
       "    <tr>\n",
       "      <th>unit</th>\n",
       "      <td>22A</td>\n",
       "      <td>406</td>\n",
       "      <td>18A</td>\n",
       "      <td>23E</td>\n",
       "      <td>3B</td>\n",
       "    </tr>\n",
       "    <tr>\n",
       "      <th>floornumber</th>\n",
       "      <td>NaN</td>\n",
       "      <td>4</td>\n",
       "      <td>18</td>\n",
       "      <td>23</td>\n",
       "      <td>3</td>\n",
       "    </tr>\n",
       "    <tr>\n",
       "      <th>line</th>\n",
       "      <td>NaN</td>\n",
       "      <td>06</td>\n",
       "      <td>A</td>\n",
       "      <td>E</td>\n",
       "      <td>B</td>\n",
       "    </tr>\n",
       "  </tbody>\n",
       "</table>\n",
       "</div>"
      ],
      "text/plain": [
       "rental_id                                                         7236931  \\\n",
       "addr_unit                                                            #22A   \n",
       "building_id                                                        551248   \n",
       "bedrooms                                                                4   \n",
       "bathrooms                                                               3   \n",
       "size_sqft                                                            1300   \n",
       "created_at                                            2018-06-04 16:31:06   \n",
       "addr_street                                              645 OCEAN AVENUE   \n",
       "addr_city                                                        Brooklyn   \n",
       "addr_zip                                                            11226   \n",
       "addr_lat                                                           40.647   \n",
       "addr_lon                                                         -73.9601   \n",
       "bin                                                           3.11762e+06   \n",
       "bbl                                                            3051240001   \n",
       "floor_count                                                             6   \n",
       "year_built                                                           1929   \n",
       "min_to_subway                                                        3.35   \n",
       "has_doorman                                                             0   \n",
       "has_elevator                                                            1   \n",
       "has_fireplace                                                           0   \n",
       "has_dishwasher                                                          1   \n",
       "is_furnished                                                            0   \n",
       "has_gym                                                                 0   \n",
       "allows_pets                                                             1   \n",
       "has_washer_dryer                                                        1   \n",
       "has_garage                                                              0   \n",
       "has_roofdeck                                                            0   \n",
       "has_concierge                                                           0   \n",
       "has_pool                                                                0   \n",
       "has_garden                                                              0   \n",
       "has_childrens_playroom                                                  0   \n",
       "rent                                                                 3925   \n",
       "no_fee                                                                  1   \n",
       "description             MAGNIFICENT GUT RENOVATED 4 BEDROOM 3 BATHROOM...   \n",
       "neighborhood                                                     Flatbush   \n",
       "borough                                                          Brooklyn   \n",
       "unit                                                                  22A   \n",
       "floornumber                                                           NaN   \n",
       "line                                                                  NaN   \n",
       "\n",
       "rental_id                                                         7331920  \\\n",
       "addr_unit                                                            #406   \n",
       "building_id                                                          3373   \n",
       "bedrooms                                                                0   \n",
       "bathrooms                                                               1   \n",
       "size_sqft                                                             475   \n",
       "created_at                                            2018-07-03 20:11:43   \n",
       "addr_street                                               93 WORTH STREET   \n",
       "addr_city                                                        New York   \n",
       "addr_zip                                                            10013   \n",
       "addr_lat                                                          40.7166   \n",
       "addr_lon                                                         -74.0048   \n",
       "bin                                                           1.00188e+06   \n",
       "bbl                                                            1001737504   \n",
       "floor_count                                                            17   \n",
       "year_built                                                           2014   \n",
       "min_to_subway                                                      3.2333   \n",
       "has_doorman                                                             1   \n",
       "has_elevator                                                            1   \n",
       "has_fireplace                                                           0   \n",
       "has_dishwasher                                                          1   \n",
       "is_furnished                                                            0   \n",
       "has_gym                                                                 1   \n",
       "allows_pets                                                             1   \n",
       "has_washer_dryer                                                        1   \n",
       "has_garage                                                              0   \n",
       "has_roofdeck                                                            1   \n",
       "has_concierge                                                           1   \n",
       "has_pool                                                                0   \n",
       "has_garden                                                              0   \n",
       "has_childrens_playroom                                                  0   \n",
       "rent                                                                 3350   \n",
       "no_fee                                                                  0   \n",
       "description             Want to live in the hottest neighborhood in to...   \n",
       "neighborhood                                                      Tribeca   \n",
       "borough                                                         Manhattan   \n",
       "unit                                                                  406   \n",
       "floornumber                                                             4   \n",
       "line                                                                   06   \n",
       "\n",
       "rental_id                                                         7139224  \\\n",
       "addr_unit                                                            #18A   \n",
       "building_id                                                         70747   \n",
       "bedrooms                                                                3   \n",
       "bathrooms                                                               3   \n",
       "size_sqft                                                            1886   \n",
       "created_at                                            2018-05-02 16:10:27   \n",
       "addr_street                                            305 EAST 51 STREET   \n",
       "addr_city                                                        New York   \n",
       "addr_zip                                                            10022   \n",
       "addr_lat                                                          40.7554   \n",
       "addr_lon                                                         -73.9676   \n",
       "bin                                                           1.03968e+06   \n",
       "bbl                                                            1013440001   \n",
       "floor_count                                                            33   \n",
       "year_built                                                           2013   \n",
       "min_to_subway                                                        3.05   \n",
       "has_doorman                                                             1   \n",
       "has_elevator                                                            1   \n",
       "has_fireplace                                                           0   \n",
       "has_dishwasher                                                          1   \n",
       "is_furnished                                                            0   \n",
       "has_gym                                                                 1   \n",
       "allows_pets                                                             1   \n",
       "has_washer_dryer                                                        0   \n",
       "has_garage                                                              1   \n",
       "has_roofdeck                                                            0   \n",
       "has_concierge                                                           0   \n",
       "has_pool                                                                1   \n",
       "has_garden                                                              1   \n",
       "has_childrens_playroom                                                  0   \n",
       "rent                                                                11500   \n",
       "no_fee                                                                  0   \n",
       "description             High floor totally renovated 3 bedrooms, 3 bat...   \n",
       "neighborhood                                                 Midtown East   \n",
       "borough                                                         Manhattan   \n",
       "unit                                                                  18A   \n",
       "floornumber                                                            18   \n",
       "line                                                                    A   \n",
       "\n",
       "rental_id                                                         7364827  \\\n",
       "addr_unit                                                            #23E   \n",
       "building_id                                                         42076   \n",
       "bedrooms                                                                1   \n",
       "bathrooms                                                               1   \n",
       "size_sqft                                                             827   \n",
       "created_at                                            2018-07-13 16:06:55   \n",
       "addr_street                                           70 WEST 37TH STREET   \n",
       "addr_city                                                        New York   \n",
       "addr_zip                                                            10018   \n",
       "addr_lat                                                          40.7513   \n",
       "addr_lon                                                         -73.9863   \n",
       "bin                                                           1.01592e+06   \n",
       "bbl                                                            1008380001   \n",
       "floor_count                                                            24   \n",
       "year_built                                                           2019   \n",
       "min_to_subway                                                           2   \n",
       "has_doorman                                                             1   \n",
       "has_elevator                                                            1   \n",
       "has_fireplace                                                           0   \n",
       "has_dishwasher                                                          1   \n",
       "is_furnished                                                            0   \n",
       "has_gym                                                                 1   \n",
       "allows_pets                                                             1   \n",
       "has_washer_dryer                                                        0   \n",
       "has_garage                                                              1   \n",
       "has_roofdeck                                                            1   \n",
       "has_concierge                                                           1   \n",
       "has_pool                                                                0   \n",
       "has_garden                                                              0   \n",
       "has_childrens_playroom                                                  0   \n",
       "rent                                                                 3772   \n",
       "no_fee                                                                  1   \n",
       "description             **SHORT TERM LEASES AVAILABLE**\\n\\n****Photogr...   \n",
       "neighborhood                                                Midtown South   \n",
       "borough                                                         Manhattan   \n",
       "unit                                                                  23E   \n",
       "floornumber                                                            23   \n",
       "line                                                                    E   \n",
       "\n",
       "rental_id                                                         7242151  \n",
       "addr_unit                                                             #3B  \n",
       "building_id                                                        319156  \n",
       "bedrooms                                                                3  \n",
       "bathrooms                                                               1  \n",
       "size_sqft                                                            1200  \n",
       "created_at                                            2018-06-05 16:35:40  \n",
       "addr_street                                         43 MAC DONOUGH STREET  \n",
       "addr_city                                                        Brooklyn  \n",
       "addr_zip                                                            11216  \n",
       "addr_lat                                                          40.6811  \n",
       "addr_lon                                                         -73.9447  \n",
       "bin                                                           3.05334e+06  \n",
       "bbl                                                            3018510053  \n",
       "floor_count                                                             4  \n",
       "year_built                                                           1931  \n",
       "min_to_subway                                                      2.1333  \n",
       "has_doorman                                                             0  \n",
       "has_elevator                                                            0  \n",
       "has_fireplace                                                           0  \n",
       "has_dishwasher                                                          0  \n",
       "is_furnished                                                            0  \n",
       "has_gym                                                                 0  \n",
       "allows_pets                                                             1  \n",
       "has_washer_dryer                                                        0  \n",
       "has_garage                                                              0  \n",
       "has_roofdeck                                                            0  \n",
       "has_concierge                                                           0  \n",
       "has_pool                                                                0  \n",
       "has_garden                                                              0  \n",
       "has_childrens_playroom                                                  0  \n",
       "rent                                                                 2595  \n",
       "no_fee                                                                  1  \n",
       "description             This is a Huuge 3 bedroom apt. located in a pr...  \n",
       "neighborhood                                           Bedford-Stuyvesant  \n",
       "borough                                                          Brooklyn  \n",
       "unit                                                                   3B  \n",
       "floornumber                                                             3  \n",
       "line                                                                    B  "
      ]
     },
     "execution_count": 44,
     "metadata": {},
     "output_type": "execute_result"
    }
   ],
   "source": [
    "train_df.head(5).transpose()"
   ]
  },
  {
   "cell_type": "markdown",
   "metadata": {},
   "source": [
    "#### Build training data"
   ]
  },
  {
   "cell_type": "code",
   "execution_count": 47,
   "metadata": {},
   "outputs": [],
   "source": [
    "# extract usable features\n",
    "feature_cols = [\n",
    "    'bedrooms', 'bathrooms', 'floor_count', 'size_sqft',\n",
    "    'has_washer_dryer', 'has_roofdeck', 'has_doorman', 'has_dishwasher']\n",
    "train_features = train_df[feature_cols] \n",
    "\n",
    "# impute missing values with imputer\n",
    "imp = SimpleImputer(missing_values=np.nan, strategy='median')\n",
    "imp.fit(train_features)\n",
    "imp.transform(train_features)\n",
    "#LOOK INTO IMPUTING USING MICE-- see fancyimpute\n",
    "\n",
    "# construct target vector\n",
    "train_target = train_df['rent']"
   ]
  },
  {
   "cell_type": "markdown",
   "metadata": {},
   "source": [
    "#### Fit models for training data"
   ]
  },
  {
   "cell_type": "code",
   "execution_count": 48,
   "metadata": {},
   "outputs": [
    {
     "name": "stderr",
     "output_type": "stream",
     "text": [
      "/usr/local/lib/python3.7/site-packages/sklearn/ensemble/forest.py:245: FutureWarning: The default value of n_estimators will change from 10 in version 0.20 to 100 in 0.22.\n",
      "  \"10 in version 0.20 to 100 in 0.22.\", FutureWarning)\n"
     ]
    },
    {
     "data": {
      "text/plain": [
       "VotingRegressor(estimators=[('knn',\n",
       "                             GridSearchCV(cv=55,\n",
       "                                          error_score='raise-deprecating',\n",
       "                                          estimator=KNeighborsRegressor(algorithm='auto',\n",
       "                                                                        leaf_size=30,\n",
       "                                                                        metric='minkowski',\n",
       "                                                                        metric_params=None,\n",
       "                                                                        n_jobs=None,\n",
       "                                                                        n_neighbors=5,\n",
       "                                                                        p=2,\n",
       "                                                                        weights='uniform'),\n",
       "                                          iid='warn', n_jobs=None,\n",
       "                                          param_grid={'n_neighbors': array([ 1,  2,  3,  4,  5,  6,  7,  8,  9, 10, 11, 12, 13, 14, 15, 16, 17,\n",
       "       18, 19, 20, 21, 22, 23, 2...\n",
       "                                                                                   min_weight_fraction_leaf=0.0,\n",
       "                                                                                   presort=False,\n",
       "                                                                                   random_state=1,\n",
       "                                                                                   splitter='best'),\n",
       "                                              bootstrap=True,\n",
       "                                              bootstrap_features=False,\n",
       "                                              max_features=1.0, max_samples=1.0,\n",
       "                                              n_estimators=10, n_jobs=None,\n",
       "                                              oob_score=False,\n",
       "                                              random_state=None, verbose=0,\n",
       "                                              warm_start=False)),\n",
       "                            ('ab',\n",
       "                             AdaBoostRegressor(base_estimator=None,\n",
       "                                               learning_rate=1.0, loss='linear',\n",
       "                                               n_estimators=50,\n",
       "                                               random_state=None))],\n",
       "                n_jobs=None, weights=None)"
      ]
     },
     "execution_count": 48,
     "metadata": {},
     "output_type": "execute_result"
    }
   ],
   "source": [
    "lreg = LinearRegression()\n",
    "lreg.fit(train_features, train_target)\n",
    "\n",
    "rf = RandomForestRegressor()\n",
    "rf.fit(train_features, train_target)\n",
    "\n",
    "br = BaggingRegressor(tree.DecisionTreeRegressor(random_state=1))\n",
    "br.fit(train_features, train_target)\n",
    "\n",
    "gb = GradientBoostingRegressor()\n",
    "gb.fit(train_features, train_target)\n",
    "\n",
    "ab = AdaBoostRegressor()\n",
    "ab.fit(train_features, train_target)\n",
    "\n",
    "knn = KNeighborsRegressor()#create a dictionary of all values we want to test for n_neighbors\n",
    "params_knn = {'n_neighbors': np.arange(1, 25)}#use gridsearch to test all values for n_neighbors\n",
    "knn_gs = GridSearchCV(knn, params_knn, cv=55)#fit model to training data\n",
    "knn_gs.fit(train_features, train_target)\n",
    "\n",
    "estimators=[('knn', knn_gs), ('rf', rf), ('lreg', lreg),('br',br),('ab',ab)]\n",
    "voter = VotingRegressor(estimators)\n",
    "voter.fit(train_features, train_target)\n",
    "\n"
   ]
  },
  {
   "cell_type": "code",
   "execution_count": 59,
   "metadata": {},
   "outputs": [
    {
     "data": {
      "text/plain": [
       "GridSearchCV(cv=50, error_score='raise-deprecating',\n",
       "             estimator=KNeighborsRegressor(algorithm='auto', leaf_size=30,\n",
       "                                           metric='minkowski',\n",
       "                                           metric_params=None, n_jobs=None,\n",
       "                                           n_neighbors=5, p=2,\n",
       "                                           weights='uniform'),\n",
       "             iid='warn', n_jobs=None,\n",
       "             param_grid={'n_neighbors': array([ 1,  2,  3,  4,  5,  6,  7,  8,  9, 10, 11, 12, 13, 14, 15, 16, 17,\n",
       "       18, 19, 20, 21, 22, 23, 24])},\n",
       "             pre_dispatch='2*n_jobs', refit=True, return_train_score=False,\n",
       "             scoring=None, verbose=0)"
      ]
     },
     "execution_count": 59,
     "metadata": {},
     "output_type": "execute_result"
    }
   ],
   "source": [
    "knn = KNeighborsRegressor()#create a dictionary of all values we want to test for n_neighbors\n",
    "params_knn = {'n_neighbors': np.arange(1, 25)}#use gridsearch to test all values for n_neighbors\n",
    "knn_gs = GridSearchCV(knn, params_knn, cv=50)#fit model to training data\n",
    "knn_gs.fit(train_features, train_target)"
   ]
  },
  {
   "cell_type": "code",
   "execution_count": 60,
   "metadata": {},
   "outputs": [
    {
     "name": "stdout",
     "output_type": "stream",
     "text": [
      "{'algorithm': 'auto',\n",
      " 'leaf_size': 30,\n",
      " 'metric': 'minkowski',\n",
      " 'metric_params': None,\n",
      " 'n_jobs': None,\n",
      " 'n_neighbors': 5,\n",
      " 'p': 2,\n",
      " 'weights': 'uniform'}\n"
     ]
    }
   ],
   "source": [
    "pprint(knn.get_params()) #Can test more KNN hyper paramters as well as the other models"
   ]
  },
  {
   "cell_type": "code",
   "execution_count": 61,
   "metadata": {},
   "outputs": [
    {
     "name": "stdout",
     "output_type": "stream",
     "text": [
      "{'bootstrap': [True, False],\n",
      " 'max_depth': [10, 20, 30, 40, 50, 60, 70, 80, 90, 100, 110, None],\n",
      " 'max_features': ['auto', 'sqrt'],\n",
      " 'min_samples_leaf': [1, 2, 4],\n",
      " 'min_samples_split': [2, 5, 10],\n",
      " 'n_estimators': [200, 400, 600, 800, 1000, 1200, 1400, 1600, 1800, 2000]}\n"
     ]
    }
   ],
   "source": [
    "#pprint(rf.get_params()) #Checking hyper parameters of rf\n",
    "\n",
    "#Creating our random grid to sample during fitting\n",
    "n_estimators = [int(x) for x in np.linspace(start = 200, stop = 2000, num = 10)]\n",
    "max_features = ['auto', 'sqrt']\n",
    "max_depth = [int(x) for x in np.linspace(10, 110, num = 11)]\n",
    "max_depth.append(None)\n",
    "min_samples_split = [2, 5, 10]\n",
    "min_samples_leaf = [1, 2, 4]\n",
    "bootstrap = [True, False]\n",
    "\n",
    "random_grid = {'n_estimators': n_estimators,\n",
    "               'max_features': max_features,\n",
    "               'max_depth': max_depth,\n",
    "               'min_samples_split': min_samples_split,\n",
    "               'min_samples_leaf': min_samples_leaf,\n",
    "               'bootstrap': bootstrap}\n",
    "\n",
    "pprint(random_grid)\n"
   ]
  },
  {
   "cell_type": "code",
   "execution_count": 62,
   "metadata": {},
   "outputs": [
    {
     "name": "stdout",
     "output_type": "stream",
     "text": [
      "Fitting 3 folds for each of 10 candidates, totalling 30 fits\n"
     ]
    },
    {
     "name": "stderr",
     "output_type": "stream",
     "text": [
      "[Parallel(n_jobs=-1)]: Using backend LokyBackend with 4 concurrent workers.\n",
      "[Parallel(n_jobs=-1)]: Done  30 out of  30 | elapsed:  2.0min finished\n"
     ]
    },
    {
     "data": {
      "text/plain": [
       "RandomizedSearchCV(cv=3, error_score='raise-deprecating',\n",
       "                   estimator=RandomForestRegressor(bootstrap=True,\n",
       "                                                   criterion='mse',\n",
       "                                                   max_depth=None,\n",
       "                                                   max_features='auto',\n",
       "                                                   max_leaf_nodes=None,\n",
       "                                                   min_impurity_decrease=0.0,\n",
       "                                                   min_impurity_split=None,\n",
       "                                                   min_samples_leaf=1,\n",
       "                                                   min_samples_split=2,\n",
       "                                                   min_weight_fraction_leaf=0.0,\n",
       "                                                   n_estimators='warn',\n",
       "                                                   n_jobs=None, oob_score=False,\n",
       "                                                   random_sta...\n",
       "                   param_distributions={'bootstrap': [True, False],\n",
       "                                        'max_depth': [10, 20, 30, 40, 50, 60,\n",
       "                                                      70, 80, 90, 100, 110,\n",
       "                                                      None],\n",
       "                                        'max_features': ['auto', 'sqrt'],\n",
       "                                        'min_samples_leaf': [1, 2, 4],\n",
       "                                        'min_samples_split': [2, 5, 10],\n",
       "                                        'n_estimators': [200, 400, 600, 800,\n",
       "                                                         1000, 1200, 1400, 1600,\n",
       "                                                         1800, 2000]},\n",
       "                   pre_dispatch='2*n_jobs', random_state=42, refit=True,\n",
       "                   return_train_score=False, scoring=None, verbose=2)"
      ]
     },
     "execution_count": 62,
     "metadata": {},
     "output_type": "execute_result"
    }
   ],
   "source": [
    "rrf = RandomForestRegressor() #Base RFR for use in our RandomizedSCV\n",
    "rf_random = RandomizedSearchCV(estimator = rrf, \n",
    "                               param_distributions = random_grid, \n",
    "                               n_iter = 10, cv = 3, verbose = 2,\n",
    "                               random_state = 42, n_jobs = -1)\n",
    "\n",
    "rf_random.fit(train_features, train_target)\n",
    "\n"
   ]
  },
  {
   "cell_type": "code",
   "execution_count": 63,
   "metadata": {},
   "outputs": [
    {
     "data": {
      "text/plain": [
       "{'n_estimators': 2000,\n",
       " 'min_samples_split': 5,\n",
       " 'min_samples_leaf': 2,\n",
       " 'max_features': 'auto',\n",
       " 'max_depth': 50,\n",
       " 'bootstrap': True}"
      ]
     },
     "execution_count": 63,
     "metadata": {},
     "output_type": "execute_result"
    }
   ],
   "source": [
    "rf_random.best_params_   #Looking at best params"
   ]
  },
  {
   "cell_type": "code",
   "execution_count": 64,
   "metadata": {},
   "outputs": [
    {
     "data": {
      "text/plain": [
       "RandomForestRegressor(bootstrap=True, criterion='mse', max_depth=50,\n",
       "                      max_features='auto', max_leaf_nodes=None,\n",
       "                      min_impurity_decrease=0.0, min_impurity_split=None,\n",
       "                      min_samples_leaf=2, min_samples_split=5,\n",
       "                      min_weight_fraction_leaf=0.0, n_estimators=2000,\n",
       "                      n_jobs=None, oob_score=False, random_state=None,\n",
       "                      verbose=0, warm_start=False)"
      ]
     },
     "execution_count": 64,
     "metadata": {},
     "output_type": "execute_result"
    }
   ],
   "source": [
    "best_random = rf_random.best_estimator_   #Setting new RSCV using best parameters\n",
    "best_random.fit(train_features, train_target)"
   ]
  },
  {
   "cell_type": "markdown",
   "metadata": {},
   "source": [
    "#### Predict and Measure Using Test 1"
   ]
  },
  {
   "cell_type": "code",
   "execution_count": 65,
   "metadata": {},
   "outputs": [
    {
     "name": "stdout",
     "output_type": "stream",
     "text": [
      "MSE_rf 570364.2794636443\n",
      "MSE_gb 2133050.236497565\n",
      "MSE_ab 5835605.475630233\n",
      "MSE_br 447217.7302967674\n",
      "MSE_lreg 3680742.7922809115\n",
      "MSE_knn 3197265.023415816\n",
      "MSE_voter 1347268.2668490182\n"
     ]
    }
   ],
   "source": [
    "test_features = test_df[feature_cols] \n",
    "\n",
    "# impute missing values with medians\n",
    "imp = SimpleImputer(missing_values=np.nan, strategy='median')\n",
    "imp.fit(test_features)\n",
    "imp.transform(test_features)\n",
    "\n",
    "# construct predictions \n",
    "test_df['predicted'] = rf.predict(test_features)\n",
    "print(\"MSE_rf\", mean_squared_error(test_df['rent'], test_df['predicted']))\n",
    "test_df = test_df.drop('predicted', 1)\n",
    "\n",
    "test_df['predicted'] = gb.predict(test_features)\n",
    "print(\"MSE_gb\", mean_squared_error(test_df['rent'], test_df['predicted']))\n",
    "test_df = test_df.drop('predicted', 1)\n",
    "\n",
    "test_df['predicted'] = ab.predict(test_features)\n",
    "print(\"MSE_ab\", mean_squared_error(test_df['rent'], test_df['predicted']))\n",
    "test_df = test_df.drop('predicted', 1)\n",
    "\n",
    "test_df['predicted'] = br.predict(test_features)\n",
    "print(\"MSE_br\", mean_squared_error(test_df['rent'], test_df['predicted']))\n",
    "test_df = test_df.drop('predicted', 1)\n",
    "\n",
    "test_df['predicted'] = lreg.predict(test_features)\n",
    "print(\"MSE_lreg\", mean_squared_error(test_df['rent'], test_df['predicted']))\n",
    "test_df = test_df.drop('predicted', 1)\n",
    "\n",
    "test_df['predicted'] = knn_gs.predict(test_features)\n",
    "print(\"MSE_knn\", mean_squared_error(test_df['rent'], test_df['predicted']))\n",
    "test_df = test_df.drop('predicted', 1)\n",
    "\n",
    "test_df['predicted'] = voter.predict(test_features)\n",
    "print(\"MSE_voter\", mean_squared_error(test_df['rent'], test_df['predicted']))\n",
    "test_df = test_df.drop('predicted', 1)\n"
   ]
  },
  {
   "cell_type": "markdown",
   "metadata": {},
   "source": [
    "#### Predict and Measure Using Test 1 (Randomized Search CV)"
   ]
  },
  {
   "cell_type": "code",
   "execution_count": 66,
   "metadata": {},
   "outputs": [
    {
     "name": "stdout",
     "output_type": "stream",
     "text": [
      "MSE_RSCV 2290575.5521978405\n",
      "MSE_Best_RSCV 2290575.5521978405\n"
     ]
    }
   ],
   "source": [
    "test_df['predicted'] = rf_random.predict(test_features)   #Testing randomized search CV\n",
    "print(\"MSE_RSCV\", mean_squared_error(test_df['rent'], test_df['predicted']))\n",
    "test_df = test_df.drop('predicted', 1)\n",
    "\n",
    "test_df['predicted'] = best_random.predict(test_features)   #Testing randomized search CV\n",
    "print(\"MSE_Best_RSCV\", mean_squared_error(test_df['rent'], test_df['predicted']))\n",
    "test_df = test_df.drop('predicted', 1)\n"
   ]
  },
  {
   "cell_type": "markdown",
   "metadata": {},
   "source": [
    "#### Combine Data, Predict Values for Test 2"
   ]
  },
  {
   "cell_type": "code",
   "execution_count": 67,
   "metadata": {},
   "outputs": [
    {
     "data": {
      "text/plain": [
       "VotingRegressor(estimators=[('knn',\n",
       "                             GridSearchCV(cv=20,\n",
       "                                          error_score='raise-deprecating',\n",
       "                                          estimator=KNeighborsRegressor(algorithm='auto',\n",
       "                                                                        leaf_size=30,\n",
       "                                                                        metric='minkowski',\n",
       "                                                                        metric_params=None,\n",
       "                                                                        n_jobs=None,\n",
       "                                                                        n_neighbors=5,\n",
       "                                                                        p=2,\n",
       "                                                                        weights='uniform'),\n",
       "                                          iid='warn', n_jobs=None,\n",
       "                                          param_grid={'n_neighbors': array([ 1,  2,  3,  4,  5,  6,  7,  8,  9, 10, 11, 12, 13, 14, 15, 16, 17,\n",
       "       18, 19, 20, 21, 22, 23, 2...\n",
       "                            ('best_random',\n",
       "                             RandomForestRegressor(bootstrap=True,\n",
       "                                                   criterion='mse',\n",
       "                                                   max_depth=50,\n",
       "                                                   max_features='auto',\n",
       "                                                   max_leaf_nodes=None,\n",
       "                                                   min_impurity_decrease=0.0,\n",
       "                                                   min_impurity_split=None,\n",
       "                                                   min_samples_leaf=2,\n",
       "                                                   min_samples_split=5,\n",
       "                                                   min_weight_fraction_leaf=0.0,\n",
       "                                                   n_estimators=2000,\n",
       "                                                   n_jobs=None, oob_score=False,\n",
       "                                                   random_state=None, verbose=0,\n",
       "                                                   warm_start=False))],\n",
       "                n_jobs=None, weights=None)"
      ]
     },
     "execution_count": 67,
     "metadata": {},
     "output_type": "execute_result"
    }
   ],
   "source": [
    "master_df = train_df.append(test_df, sort=False)\n",
    "\n",
    "# impute missing values with imputer\n",
    "#imp = SimpleImputer(missing_values=np.nan, strategy='median')\n",
    "#imp.fit(master_features)\n",
    "#imp.transform(master_features)\n",
    "\n",
    "master_features = master_df[feature_cols].fillna(master_df[feature_cols].median(), axis=0)\n",
    "\n",
    "master_target = master_df['rent']\n",
    "\n",
    "rf.fit(master_features, master_target)\n",
    "gb.fit(master_features, master_target)\n",
    "ab.fit(master_features, master_target)\n",
    "br.fit(master_features, master_target)\n",
    "lreg.fit(master_features, master_target)\n",
    "\n",
    "params_knn = {'n_neighbors': np.arange(1, 30)}#use gridsearch to test all values for n_neighbors\n",
    "knn_gs = GridSearchCV(knn, params_knn, cv=20)#fit model to training data\n",
    "knn_gs.fit(master_features, master_target)\n",
    "\n",
    "estimators=[('knn', knn_gs), ('rf', rf), ('lreg', lreg),('br',br),('ab',ab),('best_random',best_random)]\n",
    "voter = VotingRegressor(estimators)\n",
    "voter.fit(master_features, master_target)"
   ]
  },
  {
   "cell_type": "markdown",
   "metadata": {},
   "source": [
    "#### Randomized Search CV for test 2 (Without best parameters)"
   ]
  },
  {
   "cell_type": "code",
   "execution_count": 68,
   "metadata": {
    "scrolled": false
   },
   "outputs": [
    {
     "data": {
      "text/plain": [
       "RandomForestRegressor(bootstrap=True, criterion='mse', max_depth=50,\n",
       "                      max_features='auto', max_leaf_nodes=None,\n",
       "                      min_impurity_decrease=0.0, min_impurity_split=None,\n",
       "                      min_samples_leaf=2, min_samples_split=5,\n",
       "                      min_weight_fraction_leaf=0.0, n_estimators=2000,\n",
       "                      n_jobs=None, oob_score=False, random_state=None,\n",
       "                      verbose=0, warm_start=False)"
      ]
     },
     "execution_count": 68,
     "metadata": {},
     "output_type": "execute_result"
    }
   ],
   "source": [
    "#rf_random.fit(master_features, master_target)\n",
    "best_random.fit(master_features, master_target)"
   ]
  },
  {
   "cell_type": "markdown",
   "metadata": {},
   "source": [
    "#### Randomized Search CV (test2)"
   ]
  },
  {
   "cell_type": "code",
   "execution_count": 69,
   "metadata": {},
   "outputs": [
    {
     "name": "stdout",
     "output_type": "stream",
     "text": [
      "MVE_rf:  6796516.256468636\n",
      "MVE_best_rf:  6796516.256468636\n"
     ]
    }
   ],
   "source": [
    "submit2_features = submit2_df[feature_cols].fillna(master_df[feature_cols].median(), axis=0)\n",
    "submit2_df['predictions'] = rf_random.predict(submit2_features)\n",
    "submit2_df['predictions'].to_csv('submission_rf.csv', header=True)\n",
    "\n",
    "submit2_df['fake_rent'] = np.ones(submit2_df['predictions'].shape) * master_target.median()\n",
    "print(\"MVE_rf: \", mean_squared_error(submit2_df['predictions'], submit2_df['fake_rent']))\n",
    "\n",
    "submit2_features = submit2_df[feature_cols].fillna(master_df[feature_cols].median(), axis=0)\n",
    "submit2_df['predictions'] = best_random.predict(submit2_features)\n",
    "submit2_df['predictions'].to_csv('submission_rf.csv', header=True)\n",
    "\n",
    "submit2_df['fake_rent'] = np.ones(submit2_df['predictions'].shape) * master_target.median()\n",
    "print(\"MVE_best_rf: \", mean_squared_error(submit2_df['predictions'], submit2_df['fake_rent']))"
   ]
  },
  {
   "cell_type": "markdown",
   "metadata": {},
   "source": [
    "#### Random Forest Regressor (test2)"
   ]
  },
  {
   "cell_type": "code",
   "execution_count": 70,
   "metadata": {
    "scrolled": true
   },
   "outputs": [
    {
     "name": "stdout",
     "output_type": "stream",
     "text": [
      "MVE_rf:  7469921.004313083\n"
     ]
    }
   ],
   "source": [
    "submit2_features = submit2_df[feature_cols].fillna(master_df[feature_cols].median(), axis=0)\n",
    "submit2_df['predictions'] = rf.predict(submit2_features)\n",
    "submit2_df['predictions'].to_csv('submission_rf.csv', header=True)\n",
    "\n",
    "submit2_df['fake_rent'] = np.ones(submit2_df['predictions'].shape) * master_target.median()\n",
    "print(\"MVE_rf: \", mean_squared_error(submit2_df['predictions'], submit2_df['fake_rent']))"
   ]
  },
  {
   "cell_type": "markdown",
   "metadata": {},
   "source": [
    "#### GradientBoosting Regressor (test2)"
   ]
  },
  {
   "cell_type": "code",
   "execution_count": 71,
   "metadata": {},
   "outputs": [
    {
     "name": "stdout",
     "output_type": "stream",
     "text": [
      "MVE_gb:  7469921.004313083\n"
     ]
    }
   ],
   "source": [
    "submit2_features = submit2_df[feature_cols].fillna(master_df[feature_cols].median(), axis=0)\n",
    "submit2_df['predictions'] = rf.predict(submit2_features)\n",
    "submit2_df['predictions'].to_csv('sample_submission2.csv', header=True)\n",
    "\n",
    "submit2_df['fake_rent'] = np.ones(submit2_df['predictions'].shape) * master_target.median()\n",
    "print(\"MVE_gb: \", mean_squared_error(submit2_df['predictions'], submit2_df['fake_rent']))"
   ]
  },
  {
   "cell_type": "markdown",
   "metadata": {},
   "source": [
    "#### ABoost Regressor (test2)"
   ]
  },
  {
   "cell_type": "code",
   "execution_count": 72,
   "metadata": {},
   "outputs": [
    {
     "name": "stdout",
     "output_type": "stream",
     "text": [
      "MVE_ab:  12070655.83057286\n"
     ]
    }
   ],
   "source": [
    "submit2_features = submit2_df[feature_cols].fillna(master_df[feature_cols].median(), axis=0)\n",
    "submit2_df['predictions'] = ab.predict(submit2_features)\n",
    "submit2_df['predictions'].to_csv('submission_ab.csv', header=True)\n",
    "\n",
    "submit2_df['fake_rent'] = np.ones(submit2_df['predictions'].shape) * master_target.median()\n",
    "print(\"MVE_ab: \", mean_squared_error(submit2_df['predictions'], submit2_df['fake_rent']))"
   ]
  },
  {
   "cell_type": "markdown",
   "metadata": {},
   "source": [
    "#### Bagged Regressor (test2)"
   ]
  },
  {
   "cell_type": "code",
   "execution_count": 73,
   "metadata": {},
   "outputs": [
    {
     "name": "stdout",
     "output_type": "stream",
     "text": [
      "MVE_br:  7779442.2744454695\n"
     ]
    }
   ],
   "source": [
    "submit2_features = submit2_df[feature_cols].fillna(master_df[feature_cols].median(), axis=0)\n",
    "submit2_df['predictions'] = br.predict(submit2_features)\n",
    "submit2_df['predictions'].to_csv('submission_br.csv', header=True)\n",
    "\n",
    "submit2_df['fake_rent'] = np.ones(submit2_df['predictions'].shape) * master_target.median()\n",
    "print(\"MVE_br: \", mean_squared_error(submit2_df['predictions'], submit2_df['fake_rent']))"
   ]
  },
  {
   "cell_type": "markdown",
   "metadata": {},
   "source": [
    "#### Linear Regression (test2)"
   ]
  },
  {
   "cell_type": "code",
   "execution_count": 78,
   "metadata": {},
   "outputs": [
    {
     "name": "stdout",
     "output_type": "stream",
     "text": [
      "MVE_lreg:  4765059.741542864\n"
     ]
    }
   ],
   "source": [
    "submit2_features = submit2_df[feature_cols].fillna(master_df[feature_cols].median(), axis=0)\n",
    "submit2_df['predictions'] = lreg.predict(submit2_features)\n",
    "submit2_df['predictions'].to_csv('sample_submission_lreg.csv', header=True)\n",
    "\n",
    "submit2_df['fake_rent'] = np.ones(submit2_df['predictions'].shape) * master_target.median()\n",
    "print(\"MVE_lreg: \", mean_squared_error(submit2_df['predictions'], submit2_df['fake_rent']))"
   ]
  },
  {
   "cell_type": "markdown",
   "metadata": {},
   "source": [
    "#### KNN Regressor (test2)"
   ]
  },
  {
   "cell_type": "code",
   "execution_count": 77,
   "metadata": {},
   "outputs": [
    {
     "name": "stdout",
     "output_type": "stream",
     "text": [
      "MVE_knn:  5121476.26826033\n"
     ]
    }
   ],
   "source": [
    "submit2_features = submit2_df[feature_cols].fillna(master_df[feature_cols].median(), axis=0)\n",
    "submit2_df['predictions'] = knn_gs.predict(submit2_features)\n",
    "submit2_df['predictions'].to_csv('sample_submission_knn.csv', header=True)\n",
    "\n",
    "submit2_df['fake_rent'] = np.ones(submit2_df['predictions'].shape) * master_target.median()\n",
    "print(\"MVE_knn: \", mean_squared_error(submit2_df['predictions'], submit2_df['fake_rent']))\n"
   ]
  },
  {
   "cell_type": "markdown",
   "metadata": {},
   "source": [
    "### Voting Regressor (test2)"
   ]
  },
  {
   "cell_type": "code",
   "execution_count": 76,
   "metadata": {},
   "outputs": [
    {
     "name": "stdout",
     "output_type": "stream",
     "text": [
      "MVE_vote:  6096437.819029653\n"
     ]
    }
   ],
   "source": [
    "submit2_features = submit2_df[feature_cols].fillna(master_df[feature_cols].median(), axis=0)\n",
    "submit2_df['predictions'] = voter.predict(submit2_features)\n",
    "submit2_df['predictions'].to_csv('submission_vote.csv', header=True)\n",
    "\n",
    "submit2_df['fake_rent'] = np.ones(submit2_df['predictions'].shape) * master_target.median()\n",
    "print(\"MVE_vote: \", mean_squared_error(submit2_df['predictions'], submit2_df['fake_rent']))"
   ]
  },
  {
   "cell_type": "code",
   "execution_count": null,
   "metadata": {},
   "outputs": [],
   "source": []
  },
  {
   "cell_type": "markdown",
   "metadata": {},
   "source": [
    "## Attempt to use categorical data with our models"
   ]
  },
  {
   "cell_type": "code",
   "execution_count": null,
   "metadata": {},
   "outputs": [],
   "source": [
    "#Will look into one hot encoding and labeling\n"
   ]
  },
  {
   "cell_type": "code",
   "execution_count": null,
   "metadata": {},
   "outputs": [],
   "source": []
  }
 ],
 "metadata": {
  "anaconda-cloud": {},
  "kernelspec": {
   "display_name": "Python 3",
   "language": "python",
   "name": "python3"
  },
  "language_info": {
   "codemirror_mode": {
    "name": "ipython",
    "version": 3
   },
   "file_extension": ".py",
   "mimetype": "text/x-python",
   "name": "python",
   "nbconvert_exporter": "python",
   "pygments_lexer": "ipython3",
   "version": "3.7.5"
  }
 },
 "nbformat": 4,
 "nbformat_minor": 2
}
